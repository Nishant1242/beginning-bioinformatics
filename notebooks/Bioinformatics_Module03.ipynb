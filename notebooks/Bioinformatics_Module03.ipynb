{
  "nbformat": 4,
  "nbformat_minor": 0,
  "metadata": {
    "colab": {
      "provenance": [],
      "authorship_tag": "ABX9TyP8IaDXl37+U6SCeYcpk//k",
      "include_colab_link": true
    },
    "kernelspec": {
      "name": "python3",
      "display_name": "Python 3"
    },
    "language_info": {
      "name": "python"
    }
  },
  "cells": [
    {
      "cell_type": "markdown",
      "metadata": {
        "id": "view-in-github",
        "colab_type": "text"
      },
      "source": [
        "<a href=\"https://colab.research.google.com/github/Nishant1242/beginning-bioinformatics/blob/main/notebooks/Bioinformatics_Module03.ipynb\" target=\"_parent\"><img src=\"https://colab.research.google.com/assets/colab-badge.svg\" alt=\"Open In Colab\"/></a>"
      ]
    },
    {
      "cell_type": "code",
      "execution_count": null,
      "metadata": {
        "colab": {
          "base_uri": "https://localhost:8080/"
        },
        "id": "tNlBOSyXNoIF",
        "outputId": "3960595f-1590-4a3e-be35-f8554cf667d7"
      },
      "outputs": [
        {
          "output_type": "stream",
          "name": "stdout",
          "text": [
            "Hello Colab!\n"
          ]
        }
      ],
      "source": [
        "print(\"Hello Colab!\")\n"
      ]
    },
    {
      "cell_type": "code",
      "source": [
        "# Required later in module\n",
        "!pip install biopython\n"
      ],
      "metadata": {
        "colab": {
          "base_uri": "https://localhost:8080/"
        },
        "id": "aqlEnwj7RRjJ",
        "outputId": "2d05aed3-ad56-479d-8b91-ecd944f5ff0b"
      },
      "execution_count": null,
      "outputs": [
        {
          "output_type": "stream",
          "name": "stdout",
          "text": [
            "Collecting biopython\n",
            "  Downloading biopython-1.85-cp312-cp312-manylinux_2_17_x86_64.manylinux2014_x86_64.whl.metadata (13 kB)\n",
            "Requirement already satisfied: numpy in /usr/local/lib/python3.12/dist-packages (from biopython) (2.0.2)\n",
            "Downloading biopython-1.85-cp312-cp312-manylinux_2_17_x86_64.manylinux2014_x86_64.whl (3.3 MB)\n",
            "\u001b[2K   \u001b[90m━━━━━━━━━━━━━━━━━━━━━━━━━━━━━━━━━━━━━━━━\u001b[0m \u001b[32m3.3/3.3 MB\u001b[0m \u001b[31m30.2 MB/s\u001b[0m eta \u001b[36m0:00:00\u001b[0m\n",
            "\u001b[?25hInstalling collected packages: biopython\n",
            "Successfully installed biopython-1.85\n"
          ]
        }
      ]
    },
    {
      "cell_type": "markdown",
      "source": [
        "P6. input() – user input"
      ],
      "metadata": {
        "id": "GPvbIzKFSRnr"
      }
    },
    {
      "cell_type": "markdown",
      "source": [
        "P6.1"
      ],
      "metadata": {
        "id": "aCz5esBGSW-J"
      }
    },
    {
      "cell_type": "code",
      "source": [
        "name = input(\"Enter your name: \")\n",
        "print(\"Hello\", name)\n"
      ],
      "metadata": {
        "colab": {
          "base_uri": "https://localhost:8080/"
        },
        "id": "a8PbDah3RaJV",
        "outputId": "6e5ec41d-6b93-4727-c4ac-e622ed84a4ad"
      },
      "execution_count": null,
      "outputs": [
        {
          "output_type": "stream",
          "name": "stdout",
          "text": [
            "Enter your name: Nishant \n",
            "Hello Nishant \n"
          ]
        }
      ]
    },
    {
      "cell_type": "markdown",
      "source": [
        "P6.2\n"
      ],
      "metadata": {
        "id": "61ZZ19t9ScG1"
      }
    },
    {
      "cell_type": "code",
      "source": [
        "a = float(input(\"Enter side a: \"))\n",
        "b = float(input(\"Enter side b: \"))\n",
        "print(\"c^2 =\", a**2 + b**2)   # square of hypotenuse\n"
      ],
      "metadata": {
        "colab": {
          "base_uri": "https://localhost:8080/"
        },
        "id": "q1C_3SihSepK",
        "outputId": "5f58a344-6d70-488a-8302-f5d2ac717169"
      },
      "execution_count": null,
      "outputs": [
        {
          "output_type": "stream",
          "name": "stdout",
          "text": [
            "Enter side a: 812\n",
            "Enter side b: 828\n",
            "c^2 = 1344928.0\n"
          ]
        }
      ]
    },
    {
      "cell_type": "markdown",
      "source": [
        "P7. Lists"
      ],
      "metadata": {
        "id": "INzqPLC8SiiM"
      }
    },
    {
      "cell_type": "markdown",
      "source": [
        "P7.1"
      ],
      "metadata": {
        "id": "n4WuGiZQSn4v"
      }
    },
    {
      "cell_type": "code",
      "source": [
        "my_list = [\"Hello\", \"World\", \"Charles Darwin\"]\n",
        "print(my_list[1])  # \"World\" (0-based indexing)\n"
      ],
      "metadata": {
        "colab": {
          "base_uri": "https://localhost:8080/"
        },
        "id": "4IvPUMI1SpkS",
        "outputId": "397d7563-1c4d-40af-a236-10f92326e82c"
      },
      "execution_count": null,
      "outputs": [
        {
          "output_type": "stream",
          "name": "stdout",
          "text": [
            "World\n"
          ]
        }
      ]
    },
    {
      "cell_type": "markdown",
      "source": [
        "P7.2"
      ],
      "metadata": {
        "id": "jHeN0djnSuUZ"
      }
    },
    {
      "cell_type": "code",
      "source": [
        "my_list[2] = \"Nishant Kadam\"\n",
        "print(my_list)\n"
      ],
      "metadata": {
        "colab": {
          "base_uri": "https://localhost:8080/"
        },
        "id": "ifXbYCS5SvBs",
        "outputId": "ed8b25cd-566f-40e1-a258-4e446ee1bbc7"
      },
      "execution_count": null,
      "outputs": [
        {
          "output_type": "stream",
          "name": "stdout",
          "text": [
            "['Hello', 'World', 'Nishant Kadam']\n"
          ]
        }
      ]
    },
    {
      "cell_type": "markdown",
      "source": [
        "P7.3"
      ],
      "metadata": {
        "id": "MXqVAIrYSxUf"
      }
    },
    {
      "cell_type": "code",
      "source": [
        "my_list.append(\"Charles Darwin\")\n",
        "print(my_list)\n"
      ],
      "metadata": {
        "colab": {
          "base_uri": "https://localhost:8080/"
        },
        "id": "gIsSZ5lLSnMu",
        "outputId": "33e946b6-167c-45fb-ee06-339e88b1606c"
      },
      "execution_count": null,
      "outputs": [
        {
          "output_type": "stream",
          "name": "stdout",
          "text": [
            "['Hello', 'World', 'Nishant Kadam', 'Charles Darwin']\n"
          ]
        }
      ]
    },
    {
      "cell_type": "markdown",
      "source": [
        "P7.4"
      ],
      "metadata": {
        "id": "PS94PiaiTONW"
      }
    },
    {
      "cell_type": "code",
      "source": [
        "my_list.insert(1, \"Inserted item\")\n",
        "print(my_list)\n"
      ],
      "metadata": {
        "colab": {
          "base_uri": "https://localhost:8080/"
        },
        "id": "AQzzVqn4TPMG",
        "outputId": "c94fff88-6a17-4c57-e6d8-2be78ac49c77"
      },
      "execution_count": null,
      "outputs": [
        {
          "output_type": "stream",
          "name": "stdout",
          "text": [
            "['Hello', 'Inserted item', 'World', 'Nishant Kadam', 'Charles Darwin']\n"
          ]
        }
      ]
    },
    {
      "cell_type": "markdown",
      "source": [
        "P8. Slicing Lists and Strings"
      ],
      "metadata": {
        "id": "O0k9QUJyTSzK"
      }
    },
    {
      "cell_type": "markdown",
      "source": [
        "P8.1"
      ],
      "metadata": {
        "id": "mvrpVmEJTTxJ"
      }
    },
    {
      "cell_type": "code",
      "source": [
        "# expecting: [\"World\", \"Alfred R. Wallace\"]\n",
        "print(my_list[2:4])  # non-inclusive end\n"
      ],
      "metadata": {
        "colab": {
          "base_uri": "https://localhost:8080/"
        },
        "id": "JFY3XpC3TVdy",
        "outputId": "dd0212a0-1c7f-4277-dab4-bdfc46c72f85"
      },
      "execution_count": null,
      "outputs": [
        {
          "output_type": "stream",
          "name": "stdout",
          "text": [
            "['World', 'Nishant Kadam']\n"
          ]
        }
      ]
    },
    {
      "cell_type": "markdown",
      "source": [
        "P8.2"
      ],
      "metadata": {
        "id": "8jRWBTYjTXpS"
      }
    },
    {
      "cell_type": "code",
      "source": [
        "my_string = \"HelloWorldCharlesDarwinAlfred R. Wallace\"\n",
        "# target: \"Wallace World\"\n",
        "hello_world = my_string[0:5] + \" \" + my_string[5:10]  # \"Hello World\" (just demo)\n",
        "wallace = my_string[my_string.index(\"Wallace\"): my_string.index(\"Wallace\")+7]\n",
        "world = my_string[5:10]\n",
        "print(wallace + \" \" + world)\n"
      ],
      "metadata": {
        "colab": {
          "base_uri": "https://localhost:8080/"
        },
        "id": "VZvfVFqrTiB7",
        "outputId": "a5f19f91-bc9d-4a76-d693-8ba65edf6723"
      },
      "execution_count": null,
      "outputs": [
        {
          "output_type": "stream",
          "name": "stdout",
          "text": [
            "Wallace World\n"
          ]
        }
      ]
    },
    {
      "cell_type": "markdown",
      "source": [
        "P8.3 – Rosalind #2 (Strings and Lists)"
      ],
      "metadata": {
        "id": "wWoOXbKBToqg"
      }
    },
    {
      "cell_type": "code",
      "source": [
        "s = input().strip()\n",
        "a, b, c, d = map(int, input().split())\n",
        "print(s[a:b+1], s[c:d+1])\n"
      ],
      "metadata": {
        "colab": {
          "base_uri": "https://localhost:8080/"
        },
        "id": "P8dvihNbTnTy",
        "outputId": "53c1b36f-3ec0-4696-97e9-99902fedb94c"
      },
      "execution_count": null,
      "outputs": [
        {
          "output_type": "stream",
          "name": "stdout",
          "text": [
            "xSericinusFTsFSNJLDmVyG6FeWU5hwcr2SRadg16E1STdyjvwnKnnYvj978HLn3fpCPo13ohCZvImcQVkS576Ze9tAoy00aEK4A3pvmuvmmurinus56eyuFDd6HWPnQMno6i73ZObeZEzmHT1qOfjGi8kOymC0c2NBj.\n",
            "1 9 107 113\n",
            "Sericinus murinus\n"
          ]
        }
      ]
    },
    {
      "cell_type": "markdown",
      "source": [
        "P9. If / Else – Conditional Output"
      ],
      "metadata": {
        "id": "yhLvVPDTUNNt"
      }
    },
    {
      "cell_type": "markdown",
      "source": [
        "P9.1"
      ],
      "metadata": {
        "id": "ZEBGJrPhUOe4"
      }
    },
    {
      "cell_type": "code",
      "source": [
        "x = float(input(\"x: \"))\n",
        "y = float(input(\"y: \"))\n",
        "if x == y:\n",
        "    print(x + y)\n",
        "else:\n",
        "    print(x - y)\n"
      ],
      "metadata": {
        "colab": {
          "base_uri": "https://localhost:8080/"
        },
        "id": "8fY2WkFRUODe",
        "outputId": "dcb6d4e9-411c-42d0-e834-cc72028ca2ec"
      },
      "execution_count": null,
      "outputs": [
        {
          "output_type": "stream",
          "name": "stdout",
          "text": [
            "x: 5\n",
            "y: 9\n",
            "-4.0\n"
          ]
        }
      ]
    },
    {
      "cell_type": "markdown",
      "source": [
        "P10. While Loops"
      ],
      "metadata": {
        "id": "m5qc_HJ1UT72"
      }
    },
    {
      "cell_type": "markdown",
      "source": [
        "P10.1"
      ],
      "metadata": {
        "id": "KUTK4mC4UVs8"
      }
    },
    {
      "cell_type": "code",
      "source": [
        "cnt = 0\n",
        "while cnt < 3:\n",
        "    print(\"Counting!\")\n",
        "    cnt += 1\n"
      ],
      "metadata": {
        "colab": {
          "base_uri": "https://localhost:8080/"
        },
        "id": "_8EFdF1_UUbl",
        "outputId": "84c94982-18a8-4c91-fff8-3b1bd70e4db6"
      },
      "execution_count": null,
      "outputs": [
        {
          "output_type": "stream",
          "name": "stdout",
          "text": [
            "Counting!\n",
            "Counting!\n",
            "Counting!\n"
          ]
        }
      ]
    },
    {
      "cell_type": "markdown",
      "source": [
        "P11. For Loops – Over Lists"
      ],
      "metadata": {
        "id": "0T-9kVaeUYUB"
      }
    },
    {
      "cell_type": "markdown",
      "source": [
        "P11.1"
      ],
      "metadata": {
        "id": "e6-98PqyUY1L"
      }
    },
    {
      "cell_type": "code",
      "source": [
        "names = [\"Nishant\", \"Soham\", \"Akshat\"]\n",
        "for name in names:\n",
        "    print(\"Hello\", name)\n"
      ],
      "metadata": {
        "colab": {
          "base_uri": "https://localhost:8080/"
        },
        "id": "ixRs1aWPUbhG",
        "outputId": "833e563f-4008-4b61-d14b-7806f4c5d62b"
      },
      "execution_count": null,
      "outputs": [
        {
          "output_type": "stream",
          "name": "stdout",
          "text": [
            "Hello Nishant\n",
            "Hello Soham\n",
            "Hello Akshat\n"
          ]
        }
      ]
    },
    {
      "cell_type": "markdown",
      "source": [
        "P12. For Loops – Using range()"
      ],
      "metadata": {
        "id": "iPpgXUFaUifb"
      }
    },
    {
      "cell_type": "markdown",
      "source": [
        "P12.1"
      ],
      "metadata": {
        "id": "y9MpBcw3Ujvd"
      }
    },
    {
      "cell_type": "code",
      "source": [
        "iterations = 10\n",
        "for number in range(iterations):\n",
        "    print(number)   # 0..9 (10 numbers)\n"
      ],
      "metadata": {
        "colab": {
          "base_uri": "https://localhost:8080/"
        },
        "id": "tKK-m37zUi9G",
        "outputId": "ce98340e-97eb-4ad2-c589-8ea6708eaa87"
      },
      "execution_count": null,
      "outputs": [
        {
          "output_type": "stream",
          "name": "stdout",
          "text": [
            "0\n",
            "1\n",
            "2\n",
            "3\n",
            "4\n",
            "5\n",
            "6\n",
            "7\n",
            "8\n",
            "9\n"
          ]
        }
      ]
    },
    {
      "cell_type": "markdown",
      "source": [
        "P12.2"
      ],
      "metadata": {
        "id": "AWqZjcCMUnUc"
      }
    },
    {
      "cell_type": "code",
      "source": [
        "for n in range(9, 28, 3):  # 9..27 inclusive\n",
        "    print(n)\n"
      ],
      "metadata": {
        "colab": {
          "base_uri": "https://localhost:8080/"
        },
        "id": "Uf6jtEK4UoEM",
        "outputId": "3c07a0c1-1f2c-4e1f-c5de-38c9f90c09e5"
      },
      "execution_count": null,
      "outputs": [
        {
          "output_type": "stream",
          "name": "stdout",
          "text": [
            "9\n",
            "12\n",
            "15\n",
            "18\n",
            "21\n",
            "24\n",
            "27\n"
          ]
        }
      ]
    },
    {
      "cell_type": "markdown",
      "source": [
        "P12.3 – Rosalind #3 (Conditions and Loops)"
      ],
      "metadata": {
        "id": "uIqmuBgoWmqm"
      }
    },
    {
      "cell_type": "code",
      "source": [
        "a, b = map(int, input().split())\n",
        "print(sum(n for n in range(a, b+1) if n % 2 == 1))\n"
      ],
      "metadata": {
        "colab": {
          "base_uri": "https://localhost:8080/"
        },
        "id": "d9dXJGmOX7ma",
        "outputId": "0a09989f-3e59-4f9b-f142-3352422aedb4"
      },
      "execution_count": null,
      "outputs": [
        {
          "output_type": "stream",
          "name": "stdout",
          "text": [
            "4161 8982\n",
            "15842681\n"
          ]
        }
      ]
    }
  ]
}