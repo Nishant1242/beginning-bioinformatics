{
  "nbformat": 4,
  "nbformat_minor": 0,
  "metadata": {
    "colab": {
      "provenance": [],
      "authorship_tag": "ABX9TyOqso+yxG5uHUZnI8PzWiCp",
      "include_colab_link": true
    },
    "kernelspec": {
      "name": "python3",
      "display_name": "Python 3"
    },
    "language_info": {
      "name": "python"
    }
  },
  "cells": [
    {
      "cell_type": "markdown",
      "metadata": {
        "id": "view-in-github",
        "colab_type": "text"
      },
      "source": [
        "<a href=\"https://colab.research.google.com/github/Nishant1242/beginning-bioinformatics/blob/main/notebooks/Bioinformatics_Module03.ipynb\" target=\"_parent\"><img src=\"https://colab.research.google.com/assets/colab-badge.svg\" alt=\"Open In Colab\"/></a>"
      ]
    },
    {
      "cell_type": "code",
      "execution_count": 1,
      "metadata": {
        "colab": {
          "base_uri": "https://localhost:8080/"
        },
        "id": "tNlBOSyXNoIF",
        "outputId": "65ea638c-2ee1-4b7d-9d6b-d1584cbd35f8"
      },
      "outputs": [
        {
          "output_type": "stream",
          "name": "stdout",
          "text": [
            "Hello Colab!\n"
          ]
        }
      ],
      "source": [
        "print(\"Hello Colab!\")\n"
      ]
    },
    {
      "cell_type": "code",
      "source": [
        "# Required later in module\n",
        "!pip install biopython\n"
      ],
      "metadata": {
        "colab": {
          "base_uri": "https://localhost:8080/"
        },
        "id": "aqlEnwj7RRjJ",
        "outputId": "a98207d5-5d40-40ae-d4fc-5db8e1112df3"
      },
      "execution_count": 2,
      "outputs": [
        {
          "output_type": "stream",
          "name": "stdout",
          "text": [
            "Collecting biopython\n",
            "  Downloading biopython-1.85-cp312-cp312-manylinux_2_17_x86_64.manylinux2014_x86_64.whl.metadata (13 kB)\n",
            "Requirement already satisfied: numpy in /usr/local/lib/python3.12/dist-packages (from biopython) (2.0.2)\n",
            "Downloading biopython-1.85-cp312-cp312-manylinux_2_17_x86_64.manylinux2014_x86_64.whl (3.3 MB)\n",
            "\u001b[?25l   \u001b[90m━━━━━━━━━━━━━━━━━━━━━━━━━━━━━━━━━━━━━━━━\u001b[0m \u001b[32m0.0/3.3 MB\u001b[0m \u001b[31m?\u001b[0m eta \u001b[36m-:--:--\u001b[0m\r\u001b[2K   \u001b[91m━━━━━━━━━━━━━━━━━━━━━━\u001b[0m\u001b[90m╺\u001b[0m\u001b[90m━━━━━━━━━━━━━━━━━\u001b[0m \u001b[32m1.8/3.3 MB\u001b[0m \u001b[31m49.8 MB/s\u001b[0m eta \u001b[36m0:00:01\u001b[0m\r\u001b[2K   \u001b[90m━━━━━━━━━━━━━━━━━━━━━━━━━━━━━━━━━━━━━━━━\u001b[0m \u001b[32m3.3/3.3 MB\u001b[0m \u001b[31m43.3 MB/s\u001b[0m eta \u001b[36m0:00:00\u001b[0m\n",
            "\u001b[?25hInstalling collected packages: biopython\n",
            "Successfully installed biopython-1.85\n"
          ]
        }
      ]
    },
    {
      "cell_type": "markdown",
      "source": [
        "P6. input() – user input"
      ],
      "metadata": {
        "id": "GPvbIzKFSRnr"
      }
    },
    {
      "cell_type": "markdown",
      "source": [
        "P6.1"
      ],
      "metadata": {
        "id": "aCz5esBGSW-J"
      }
    },
    {
      "cell_type": "code",
      "source": [
        "name = input(\"Enter your name: \")\n",
        "print(\"Hello\", name)\n"
      ],
      "metadata": {
        "colab": {
          "base_uri": "https://localhost:8080/"
        },
        "id": "a8PbDah3RaJV",
        "outputId": "e3fc4e71-c314-4357-813e-7ff760397613"
      },
      "execution_count": 51,
      "outputs": [
        {
          "output_type": "stream",
          "name": "stdout",
          "text": [
            "Enter your name: Nishant \n",
            "Hello Nishant \n"
          ]
        }
      ]
    },
    {
      "cell_type": "markdown",
      "source": [
        "P6.2\n"
      ],
      "metadata": {
        "id": "61ZZ19t9ScG1"
      }
    },
    {
      "cell_type": "code",
      "source": [
        "a = float(input(\"Enter side a: \"))\n",
        "b = float(input(\"Enter side b: \"))\n",
        "print(\"c^2 =\", a**2 + b**2)   # square of hypotenuse\n"
      ],
      "metadata": {
        "colab": {
          "base_uri": "https://localhost:8080/"
        },
        "id": "q1C_3SihSepK",
        "outputId": "f93cfeec-e4b4-45d9-919c-a2b98b51884f"
      },
      "execution_count": 52,
      "outputs": [
        {
          "output_type": "stream",
          "name": "stdout",
          "text": [
            "Enter side a: 812\n",
            "Enter side b: 828\n",
            "c^2 = 1344928.0\n"
          ]
        }
      ]
    },
    {
      "cell_type": "markdown",
      "source": [
        "P7. Lists"
      ],
      "metadata": {
        "id": "INzqPLC8SiiM"
      }
    },
    {
      "cell_type": "markdown",
      "source": [
        "P7.1"
      ],
      "metadata": {
        "id": "n4WuGiZQSn4v"
      }
    },
    {
      "cell_type": "code",
      "source": [
        "my_list = [\"Hello\", \"World\", \"Charles Darwin\"]\n",
        "print(my_list[1])  # \"World\" (0-based indexing)\n"
      ],
      "metadata": {
        "colab": {
          "base_uri": "https://localhost:8080/"
        },
        "id": "4IvPUMI1SpkS",
        "outputId": "674cf291-19da-4572-906d-48ffde59553b"
      },
      "execution_count": 53,
      "outputs": [
        {
          "output_type": "stream",
          "name": "stdout",
          "text": [
            "World\n"
          ]
        }
      ]
    },
    {
      "cell_type": "markdown",
      "source": [
        "P7.2"
      ],
      "metadata": {
        "id": "jHeN0djnSuUZ"
      }
    },
    {
      "cell_type": "code",
      "source": [
        "my_list[2] = \"Nishant Kadam\"\n",
        "print(my_list)\n"
      ],
      "metadata": {
        "colab": {
          "base_uri": "https://localhost:8080/"
        },
        "id": "ifXbYCS5SvBs",
        "outputId": "632f9bf6-80d9-4ecc-f32f-e11813d4ed1a"
      },
      "execution_count": 54,
      "outputs": [
        {
          "output_type": "stream",
          "name": "stdout",
          "text": [
            "['Hello', 'World', 'Nishant Kadam']\n"
          ]
        }
      ]
    },
    {
      "cell_type": "markdown",
      "source": [
        "P7.3"
      ],
      "metadata": {
        "id": "MXqVAIrYSxUf"
      }
    },
    {
      "cell_type": "code",
      "source": [
        "my_list.append(\"Charles Darwin\")\n",
        "print(my_list)\n"
      ],
      "metadata": {
        "colab": {
          "base_uri": "https://localhost:8080/"
        },
        "id": "gIsSZ5lLSnMu",
        "outputId": "71ff3e4f-d720-40c1-d5e3-c6d15e089b52"
      },
      "execution_count": 55,
      "outputs": [
        {
          "output_type": "stream",
          "name": "stdout",
          "text": [
            "['Hello', 'World', 'Nishant Kadam', 'Charles Darwin']\n"
          ]
        }
      ]
    },
    {
      "cell_type": "markdown",
      "source": [
        "P7.4"
      ],
      "metadata": {
        "id": "PS94PiaiTONW"
      }
    },
    {
      "cell_type": "code",
      "source": [
        "my_list.insert(1, \"Inserted item\")\n",
        "print(my_list)\n"
      ],
      "metadata": {
        "colab": {
          "base_uri": "https://localhost:8080/"
        },
        "id": "AQzzVqn4TPMG",
        "outputId": "cb13fb9f-f393-4684-af54-bbcd81da1b17"
      },
      "execution_count": 56,
      "outputs": [
        {
          "output_type": "stream",
          "name": "stdout",
          "text": [
            "['Hello', 'Inserted item', 'World', 'Nishant Kadam', 'Charles Darwin']\n"
          ]
        }
      ]
    },
    {
      "cell_type": "markdown",
      "source": [
        "P8. Slicing Lists and Strings"
      ],
      "metadata": {
        "id": "O0k9QUJyTSzK"
      }
    },
    {
      "cell_type": "markdown",
      "source": [
        "P8.1"
      ],
      "metadata": {
        "id": "mvrpVmEJTTxJ"
      }
    },
    {
      "cell_type": "code",
      "source": [
        "# expecting: [\"World\", \"Alfred R. Wallace\"]\n",
        "print(my_list[2:4])  # non-inclusive end\n"
      ],
      "metadata": {
        "colab": {
          "base_uri": "https://localhost:8080/"
        },
        "id": "JFY3XpC3TVdy",
        "outputId": "18fdb306-d4b7-4f06-e0b8-f1e3217b4cff"
      },
      "execution_count": 57,
      "outputs": [
        {
          "output_type": "stream",
          "name": "stdout",
          "text": [
            "['World', 'Nishant Kadam']\n"
          ]
        }
      ]
    },
    {
      "cell_type": "markdown",
      "source": [
        "P8.2"
      ],
      "metadata": {
        "id": "8jRWBTYjTXpS"
      }
    },
    {
      "cell_type": "code",
      "source": [
        "my_string = \"HelloWorldCharlesDarwinAlfred R. Wallace\"\n",
        "# target: \"Wallace World\"\n",
        "hello_world = my_string[0:5] + \" \" + my_string[5:10]  # \"Hello World\" (just demo)\n",
        "wallace = my_string[my_string.index(\"Wallace\"): my_string.index(\"Wallace\")+7]\n",
        "world = my_string[5:10]\n",
        "print(wallace + \" \" + world)\n"
      ],
      "metadata": {
        "colab": {
          "base_uri": "https://localhost:8080/"
        },
        "id": "VZvfVFqrTiB7",
        "outputId": "c0faa25a-edd1-4cd1-e7b1-6353b05077a4"
      },
      "execution_count": 58,
      "outputs": [
        {
          "output_type": "stream",
          "name": "stdout",
          "text": [
            "Wallace World\n"
          ]
        }
      ]
    },
    {
      "cell_type": "markdown",
      "source": [
        "P8.3 – Rosalind #2 (Strings and Lists)"
      ],
      "metadata": {
        "id": "wWoOXbKBToqg"
      }
    },
    {
      "cell_type": "code",
      "source": [
        "s = input().strip()\n",
        "a, b, c, d = map(int, input().split())\n",
        "print(s[a:b+1], s[c:d+1])\n"
      ],
      "metadata": {
        "colab": {
          "base_uri": "https://localhost:8080/"
        },
        "id": "P8dvihNbTnTy",
        "outputId": "43233b63-4be4-4add-be2a-515e12c1e8ec"
      },
      "execution_count": 59,
      "outputs": [
        {
          "output_type": "stream",
          "name": "stdout",
          "text": [
            "xSericinusFTsFSNJLDmVyG6FeWU5hwcr2SRadg16E1STdyjvwnKnnYvj978HLn3fpCPo13ohCZvImcQVkS576Ze9tAoy00aEK4A3pvmuvmmurinus56eyuFDd6HWPnQMno6i73ZObeZEzmHT1qOfjGi8kOymC0c2NBj.\n",
            "1 9 107 113\n",
            "Sericinus murinus\n"
          ]
        }
      ]
    },
    {
      "cell_type": "markdown",
      "source": [
        "P9. If / Else – Conditional Output"
      ],
      "metadata": {
        "id": "yhLvVPDTUNNt"
      }
    },
    {
      "cell_type": "markdown",
      "source": [
        "P9.1"
      ],
      "metadata": {
        "id": "ZEBGJrPhUOe4"
      }
    },
    {
      "cell_type": "code",
      "source": [
        "x = float(input(\"x: \"))\n",
        "y = float(input(\"y: \"))\n",
        "if x == y:\n",
        "    print(x + y)\n",
        "else:\n",
        "    print(x - y)\n"
      ],
      "metadata": {
        "colab": {
          "base_uri": "https://localhost:8080/"
        },
        "id": "8fY2WkFRUODe",
        "outputId": "c9d84ad1-0bab-4296-a926-d0289a172ae0"
      },
      "execution_count": 60,
      "outputs": [
        {
          "output_type": "stream",
          "name": "stdout",
          "text": [
            "x: 8\n",
            "y: 5\n",
            "3.0\n"
          ]
        }
      ]
    },
    {
      "cell_type": "markdown",
      "source": [
        "P10. While Loops"
      ],
      "metadata": {
        "id": "m5qc_HJ1UT72"
      }
    },
    {
      "cell_type": "markdown",
      "source": [
        "P10.1"
      ],
      "metadata": {
        "id": "KUTK4mC4UVs8"
      }
    },
    {
      "cell_type": "code",
      "source": [
        "cnt = 0\n",
        "while cnt < 3:\n",
        "    print(\"Counting!\")\n",
        "    cnt += 1\n"
      ],
      "metadata": {
        "colab": {
          "base_uri": "https://localhost:8080/"
        },
        "id": "_8EFdF1_UUbl",
        "outputId": "34671efe-9877-483f-ae82-8f63abbcbed5"
      },
      "execution_count": 61,
      "outputs": [
        {
          "output_type": "stream",
          "name": "stdout",
          "text": [
            "Counting!\n",
            "Counting!\n",
            "Counting!\n"
          ]
        }
      ]
    },
    {
      "cell_type": "markdown",
      "source": [
        "P11. For Loops – Over Lists"
      ],
      "metadata": {
        "id": "0T-9kVaeUYUB"
      }
    },
    {
      "cell_type": "markdown",
      "source": [
        "P11.1"
      ],
      "metadata": {
        "id": "e6-98PqyUY1L"
      }
    },
    {
      "cell_type": "code",
      "source": [
        "names = [\"Nishant\", \"Soham\", \"Akshat\"]\n",
        "for name in names:\n",
        "    print(\"Hello\", name)\n"
      ],
      "metadata": {
        "colab": {
          "base_uri": "https://localhost:8080/"
        },
        "id": "ixRs1aWPUbhG",
        "outputId": "2461e8b5-090b-47c8-a8d0-d14796855c56"
      },
      "execution_count": 62,
      "outputs": [
        {
          "output_type": "stream",
          "name": "stdout",
          "text": [
            "Hello Nishant\n",
            "Hello Soham\n",
            "Hello Akshat\n"
          ]
        }
      ]
    },
    {
      "cell_type": "markdown",
      "source": [
        "P12. For Loops – Using range()"
      ],
      "metadata": {
        "id": "iPpgXUFaUifb"
      }
    },
    {
      "cell_type": "markdown",
      "source": [
        "P12.1"
      ],
      "metadata": {
        "id": "y9MpBcw3Ujvd"
      }
    },
    {
      "cell_type": "code",
      "source": [
        "iterations = 10\n",
        "for number in range(iterations):\n",
        "    print(number)   # 0..9 (10 numbers)\n"
      ],
      "metadata": {
        "colab": {
          "base_uri": "https://localhost:8080/"
        },
        "id": "tKK-m37zUi9G",
        "outputId": "cf34acf4-0474-41e2-cfca-793e6182a69a"
      },
      "execution_count": 63,
      "outputs": [
        {
          "output_type": "stream",
          "name": "stdout",
          "text": [
            "0\n",
            "1\n",
            "2\n",
            "3\n",
            "4\n",
            "5\n",
            "6\n",
            "7\n",
            "8\n",
            "9\n"
          ]
        }
      ]
    },
    {
      "cell_type": "markdown",
      "source": [
        "P12.2"
      ],
      "metadata": {
        "id": "AWqZjcCMUnUc"
      }
    },
    {
      "cell_type": "code",
      "source": [
        "for n in range(9, 28, 3):  # 9..27 inclusive\n",
        "    print(n)\n"
      ],
      "metadata": {
        "colab": {
          "base_uri": "https://localhost:8080/"
        },
        "id": "Uf6jtEK4UoEM",
        "outputId": "de727405-b811-4caf-9ad7-615099691baa"
      },
      "execution_count": 64,
      "outputs": [
        {
          "output_type": "stream",
          "name": "stdout",
          "text": [
            "9\n",
            "12\n",
            "15\n",
            "18\n",
            "21\n",
            "24\n",
            "27\n"
          ]
        }
      ]
    },
    {
      "cell_type": "markdown",
      "source": [
        "P12.3 – Rosalind #3 (Conditions and Loops)"
      ],
      "metadata": {
        "id": "uIqmuBgoWmqm"
      }
    },
    {
      "cell_type": "code",
      "source": [
        "a, b = map(int, input().split())\n",
        "print(sum(n for n in range(a, b+1) if n % 2 == 1))\n"
      ],
      "metadata": {
        "colab": {
          "base_uri": "https://localhost:8080/"
        },
        "id": "d9dXJGmOX7ma",
        "outputId": "9f7ce522-b7f7-4257-da62-248c2165a336"
      },
      "execution_count": 5,
      "outputs": [
        {
          "output_type": "stream",
          "name": "stdout",
          "text": [
            "4161 8982\n",
            "15842681\n"
          ]
        }
      ]
    },
    {
      "cell_type": "code",
      "source": [
        "from google.colab import files\n",
        "uploaded = files.upload()  # pick your practice.txt\n",
        "\n",
        "with open(\"practice.txt\", \"r\", encoding=\"utf-8\") as f:\n",
        "    print(f.read())\n"
      ],
      "metadata": {
        "id": "amnHDQ8ffZGE",
        "outputId": "c006cf6a-3662-440f-ca29-971498c7c695",
        "colab": {
          "base_uri": "https://localhost:8080/",
          "height": 829
        }
      },
      "execution_count": 6,
      "outputs": [
        {
          "output_type": "display_data",
          "data": {
            "text/plain": [
              "<IPython.core.display.HTML object>"
            ],
            "text/html": [
              "\n",
              "     <input type=\"file\" id=\"files-a0eeea50-26f0-4027-b6fe-54e869bf517d\" name=\"files[]\" multiple disabled\n",
              "        style=\"border:none\" />\n",
              "     <output id=\"result-a0eeea50-26f0-4027-b6fe-54e869bf517d\">\n",
              "      Upload widget is only available when the cell has been executed in the\n",
              "      current browser session. Please rerun this cell to enable.\n",
              "      </output>\n",
              "      <script>// Copyright 2017 Google LLC\n",
              "//\n",
              "// Licensed under the Apache License, Version 2.0 (the \"License\");\n",
              "// you may not use this file except in compliance with the License.\n",
              "// You may obtain a copy of the License at\n",
              "//\n",
              "//      http://www.apache.org/licenses/LICENSE-2.0\n",
              "//\n",
              "// Unless required by applicable law or agreed to in writing, software\n",
              "// distributed under the License is distributed on an \"AS IS\" BASIS,\n",
              "// WITHOUT WARRANTIES OR CONDITIONS OF ANY KIND, either express or implied.\n",
              "// See the License for the specific language governing permissions and\n",
              "// limitations under the License.\n",
              "\n",
              "/**\n",
              " * @fileoverview Helpers for google.colab Python module.\n",
              " */\n",
              "(function(scope) {\n",
              "function span(text, styleAttributes = {}) {\n",
              "  const element = document.createElement('span');\n",
              "  element.textContent = text;\n",
              "  for (const key of Object.keys(styleAttributes)) {\n",
              "    element.style[key] = styleAttributes[key];\n",
              "  }\n",
              "  return element;\n",
              "}\n",
              "\n",
              "// Max number of bytes which will be uploaded at a time.\n",
              "const MAX_PAYLOAD_SIZE = 100 * 1024;\n",
              "\n",
              "function _uploadFiles(inputId, outputId) {\n",
              "  const steps = uploadFilesStep(inputId, outputId);\n",
              "  const outputElement = document.getElementById(outputId);\n",
              "  // Cache steps on the outputElement to make it available for the next call\n",
              "  // to uploadFilesContinue from Python.\n",
              "  outputElement.steps = steps;\n",
              "\n",
              "  return _uploadFilesContinue(outputId);\n",
              "}\n",
              "\n",
              "// This is roughly an async generator (not supported in the browser yet),\n",
              "// where there are multiple asynchronous steps and the Python side is going\n",
              "// to poll for completion of each step.\n",
              "// This uses a Promise to block the python side on completion of each step,\n",
              "// then passes the result of the previous step as the input to the next step.\n",
              "function _uploadFilesContinue(outputId) {\n",
              "  const outputElement = document.getElementById(outputId);\n",
              "  const steps = outputElement.steps;\n",
              "\n",
              "  const next = steps.next(outputElement.lastPromiseValue);\n",
              "  return Promise.resolve(next.value.promise).then((value) => {\n",
              "    // Cache the last promise value to make it available to the next\n",
              "    // step of the generator.\n",
              "    outputElement.lastPromiseValue = value;\n",
              "    return next.value.response;\n",
              "  });\n",
              "}\n",
              "\n",
              "/**\n",
              " * Generator function which is called between each async step of the upload\n",
              " * process.\n",
              " * @param {string} inputId Element ID of the input file picker element.\n",
              " * @param {string} outputId Element ID of the output display.\n",
              " * @return {!Iterable<!Object>} Iterable of next steps.\n",
              " */\n",
              "function* uploadFilesStep(inputId, outputId) {\n",
              "  const inputElement = document.getElementById(inputId);\n",
              "  inputElement.disabled = false;\n",
              "\n",
              "  const outputElement = document.getElementById(outputId);\n",
              "  outputElement.innerHTML = '';\n",
              "\n",
              "  const pickedPromise = new Promise((resolve) => {\n",
              "    inputElement.addEventListener('change', (e) => {\n",
              "      resolve(e.target.files);\n",
              "    });\n",
              "  });\n",
              "\n",
              "  const cancel = document.createElement('button');\n",
              "  inputElement.parentElement.appendChild(cancel);\n",
              "  cancel.textContent = 'Cancel upload';\n",
              "  const cancelPromise = new Promise((resolve) => {\n",
              "    cancel.onclick = () => {\n",
              "      resolve(null);\n",
              "    };\n",
              "  });\n",
              "\n",
              "  // Wait for the user to pick the files.\n",
              "  const files = yield {\n",
              "    promise: Promise.race([pickedPromise, cancelPromise]),\n",
              "    response: {\n",
              "      action: 'starting',\n",
              "    }\n",
              "  };\n",
              "\n",
              "  cancel.remove();\n",
              "\n",
              "  // Disable the input element since further picks are not allowed.\n",
              "  inputElement.disabled = true;\n",
              "\n",
              "  if (!files) {\n",
              "    return {\n",
              "      response: {\n",
              "        action: 'complete',\n",
              "      }\n",
              "    };\n",
              "  }\n",
              "\n",
              "  for (const file of files) {\n",
              "    const li = document.createElement('li');\n",
              "    li.append(span(file.name, {fontWeight: 'bold'}));\n",
              "    li.append(span(\n",
              "        `(${file.type || 'n/a'}) - ${file.size} bytes, ` +\n",
              "        `last modified: ${\n",
              "            file.lastModifiedDate ? file.lastModifiedDate.toLocaleDateString() :\n",
              "                                    'n/a'} - `));\n",
              "    const percent = span('0% done');\n",
              "    li.appendChild(percent);\n",
              "\n",
              "    outputElement.appendChild(li);\n",
              "\n",
              "    const fileDataPromise = new Promise((resolve) => {\n",
              "      const reader = new FileReader();\n",
              "      reader.onload = (e) => {\n",
              "        resolve(e.target.result);\n",
              "      };\n",
              "      reader.readAsArrayBuffer(file);\n",
              "    });\n",
              "    // Wait for the data to be ready.\n",
              "    let fileData = yield {\n",
              "      promise: fileDataPromise,\n",
              "      response: {\n",
              "        action: 'continue',\n",
              "      }\n",
              "    };\n",
              "\n",
              "    // Use a chunked sending to avoid message size limits. See b/62115660.\n",
              "    let position = 0;\n",
              "    do {\n",
              "      const length = Math.min(fileData.byteLength - position, MAX_PAYLOAD_SIZE);\n",
              "      const chunk = new Uint8Array(fileData, position, length);\n",
              "      position += length;\n",
              "\n",
              "      const base64 = btoa(String.fromCharCode.apply(null, chunk));\n",
              "      yield {\n",
              "        response: {\n",
              "          action: 'append',\n",
              "          file: file.name,\n",
              "          data: base64,\n",
              "        },\n",
              "      };\n",
              "\n",
              "      let percentDone = fileData.byteLength === 0 ?\n",
              "          100 :\n",
              "          Math.round((position / fileData.byteLength) * 100);\n",
              "      percent.textContent = `${percentDone}% done`;\n",
              "\n",
              "    } while (position < fileData.byteLength);\n",
              "  }\n",
              "\n",
              "  // All done.\n",
              "  yield {\n",
              "    response: {\n",
              "      action: 'complete',\n",
              "    }\n",
              "  };\n",
              "}\n",
              "\n",
              "scope.google = scope.google || {};\n",
              "scope.google.colab = scope.google.colab || {};\n",
              "scope.google.colab._files = {\n",
              "  _uploadFiles,\n",
              "  _uploadFilesContinue,\n",
              "};\n",
              "})(self);\n",
              "</script> "
            ]
          },
          "metadata": {}
        },
        {
          "output_type": "stream",
          "name": "stdout",
          "text": [
            "Saving practice.txt to practice.txt\n",
            "`Twas brillig, and the slithy toves\n",
            "Some things in life are bad, they can really make you mad\n",
            "  Did gyre and gimble in the wabe:\n",
            "Other things just make you swear and curse\n",
            "All mimsy were the borogoves,\n",
            "When you're chewing on life's gristle, don't grumble give a whistle\n",
            "  And the mome raths outgrabe.\n",
            "This will help things turn out for the best\n",
            "\"Beware the Jabberwock, my son!\n",
            "Always look on the bright side of life\n",
            "  The jaws that bite, the claws that catch!\n",
            "Always look on the right side of life\n",
            "Beware the Jubjub bird, and shun\n",
            "If life seems jolly rotten, there's something you've forgotten\n",
            "  The frumious Bandersnatch!\"\n",
            "And that's to laugh and smile and dance and sing\n",
            "He took his vorpal sword in hand:\n",
            "When you're feeling in the dumps, don't be silly, chumps\n",
            "  Long time the manxome foe he sought --\n",
            "Just purse your lips and whistle, that's the thing\n",
            "So rested he by the Tumtum tree,\n",
            "So, always look on the bright side of death\n",
            "  And stood awhile in thought.\n",
            "Just before you draw your terminal breath\n",
            "And, as in uffish thought he stood,\n",
            "Life's a counterfeit and when you look at it\n",
            "  The Jabberwock, with eyes of flame,\n",
            "Life's a laugh and death's the joke, it's true\n",
            "Came whiffling through the tulgey wood,\n",
            "You see, it's all a show, keep them laughing as you go\n",
            "  And burbled as it came!\n",
            "Just remember the last laugh is on you\n",
            "One, two! One, two! And through and through\n",
            "Always look on the bright side of life\n",
            "  The vorpal blade went snicker-snack!\n",
            "And always look on the right side of life\n",
            "He left it dead, and with its head\n",
            "Always look on the bright side of life\n",
            "  He went galumphing back.\n",
            "And always look on the right side of life\n",
            "\n"
          ]
        }
      ]
    },
    {
      "cell_type": "markdown",
      "source": [
        "P13.2"
      ],
      "metadata": {
        "id": "nPt1OGy7f_g7"
      }
    },
    {
      "cell_type": "code",
      "source": [
        "with open(\"practice.txt\", \"r\") as data:\n",
        "    whole = data.read()\n",
        "    print(\"[read()] ->\"); print(whole)\n",
        "\n",
        "with open(\"practice.txt\", \"r\") as data:\n",
        "    line1 = data.readline()\n",
        "    print(\"\\n[readline()] ->\"); print(line1, end=\"\")\n",
        "\n",
        "with open(\"practice.txt\", \"r\") as data:\n",
        "    lines = data.readlines()\n",
        "    print(\"\\n[readlines()] ->\"); print(lines)\n"
      ],
      "metadata": {
        "colab": {
          "base_uri": "https://localhost:8080/"
        },
        "id": "zSmUUSefgAB3",
        "outputId": "1c3bc5fa-212b-41b7-9b70-430eb5a98a11"
      },
      "execution_count": 7,
      "outputs": [
        {
          "output_type": "stream",
          "name": "stdout",
          "text": [
            "[read()] ->\n",
            "`Twas brillig, and the slithy toves\n",
            "Some things in life are bad, they can really make you mad\n",
            "  Did gyre and gimble in the wabe:\n",
            "Other things just make you swear and curse\n",
            "All mimsy were the borogoves,\n",
            "When you're chewing on life's gristle, don't grumble give a whistle\n",
            "  And the mome raths outgrabe.\n",
            "This will help things turn out for the best\n",
            "\"Beware the Jabberwock, my son!\n",
            "Always look on the bright side of life\n",
            "  The jaws that bite, the claws that catch!\n",
            "Always look on the right side of life\n",
            "Beware the Jubjub bird, and shun\n",
            "If life seems jolly rotten, there's something you've forgotten\n",
            "  The frumious Bandersnatch!\"\n",
            "And that's to laugh and smile and dance and sing\n",
            "He took his vorpal sword in hand:\n",
            "When you're feeling in the dumps, don't be silly, chumps\n",
            "  Long time the manxome foe he sought --\n",
            "Just purse your lips and whistle, that's the thing\n",
            "So rested he by the Tumtum tree,\n",
            "So, always look on the bright side of death\n",
            "  And stood awhile in thought.\n",
            "Just before you draw your terminal breath\n",
            "And, as in uffish thought he stood,\n",
            "Life's a counterfeit and when you look at it\n",
            "  The Jabberwock, with eyes of flame,\n",
            "Life's a laugh and death's the joke, it's true\n",
            "Came whiffling through the tulgey wood,\n",
            "You see, it's all a show, keep them laughing as you go\n",
            "  And burbled as it came!\n",
            "Just remember the last laugh is on you\n",
            "One, two! One, two! And through and through\n",
            "Always look on the bright side of life\n",
            "  The vorpal blade went snicker-snack!\n",
            "And always look on the right side of life\n",
            "He left it dead, and with its head\n",
            "Always look on the bright side of life\n",
            "  He went galumphing back.\n",
            "And always look on the right side of life\n",
            "\n",
            "\n",
            "[readline()] ->\n",
            "`Twas brillig, and the slithy toves\n",
            "\n",
            "[readlines()] ->\n",
            "['`Twas brillig, and the slithy toves\\n', 'Some things in life are bad, they can really make you mad\\n', '  Did gyre and gimble in the wabe:\\n', 'Other things just make you swear and curse\\n', 'All mimsy were the borogoves,\\n', \"When you're chewing on life's gristle, don't grumble give a whistle\\n\", '  And the mome raths outgrabe.\\n', 'This will help things turn out for the best\\n', '\"Beware the Jabberwock, my son!\\n', 'Always look on the bright side of life\\n', '  The jaws that bite, the claws that catch!\\n', 'Always look on the right side of life\\n', 'Beware the Jubjub bird, and shun\\n', \"If life seems jolly rotten, there's something you've forgotten\\n\", '  The frumious Bandersnatch!\"\\n', \"And that's to laugh and smile and dance and sing\\n\", 'He took his vorpal sword in hand:\\n', \"When you're feeling in the dumps, don't be silly, chumps\\n\", '  Long time the manxome foe he sought --\\n', \"Just purse your lips and whistle, that's the thing\\n\", 'So rested he by the Tumtum tree,\\n', 'So, always look on the bright side of death\\n', '  And stood awhile in thought.\\n', 'Just before you draw your terminal breath\\n', 'And, as in uffish thought he stood,\\n', \"Life's a counterfeit and when you look at it\\n\", '  The Jabberwock, with eyes of flame,\\n', \"Life's a laugh and death's the joke, it's true\\n\", 'Came whiffling through the tulgey wood,\\n', \"You see, it's all a show, keep them laughing as you go\\n\", '  And burbled as it came!\\n', 'Just remember the last laugh is on you\\n', 'One, two! One, two! And through and through\\n', 'Always look on the bright side of life\\n', '  The vorpal blade went snicker-snack!\\n', 'And always look on the right side of life\\n', 'He left it dead, and with its head\\n', 'Always look on the bright side of life\\n', '  He went galumphing back.\\n', 'And always look on the right side of life\\n']\n"
          ]
        }
      ]
    },
    {
      "cell_type": "markdown",
      "source": [
        "P14. Store & Close File, Use join()"
      ],
      "metadata": {
        "id": "9sZ8fnV5gIAF"
      }
    },
    {
      "cell_type": "markdown",
      "source": [
        "P14.1"
      ],
      "metadata": {
        "id": "yrkRndBzgKvM"
      }
    },
    {
      "cell_type": "code",
      "source": [
        "with open(\"practice.txt\", \"r\") as data:\n",
        "    list_of_lines = data.readlines()\n",
        "\n",
        "print(\"\".join(list_of_lines))  # looks like original input\n"
      ],
      "metadata": {
        "colab": {
          "base_uri": "https://localhost:8080/"
        },
        "id": "zmvGiEkjgLw6",
        "outputId": "b45a0398-f26f-4946-ee2e-2b0f14f945c0"
      },
      "execution_count": 8,
      "outputs": [
        {
          "output_type": "stream",
          "name": "stdout",
          "text": [
            "`Twas brillig, and the slithy toves\n",
            "Some things in life are bad, they can really make you mad\n",
            "  Did gyre and gimble in the wabe:\n",
            "Other things just make you swear and curse\n",
            "All mimsy were the borogoves,\n",
            "When you're chewing on life's gristle, don't grumble give a whistle\n",
            "  And the mome raths outgrabe.\n",
            "This will help things turn out for the best\n",
            "\"Beware the Jabberwock, my son!\n",
            "Always look on the bright side of life\n",
            "  The jaws that bite, the claws that catch!\n",
            "Always look on the right side of life\n",
            "Beware the Jubjub bird, and shun\n",
            "If life seems jolly rotten, there's something you've forgotten\n",
            "  The frumious Bandersnatch!\"\n",
            "And that's to laugh and smile and dance and sing\n",
            "He took his vorpal sword in hand:\n",
            "When you're feeling in the dumps, don't be silly, chumps\n",
            "  Long time the manxome foe he sought --\n",
            "Just purse your lips and whistle, that's the thing\n",
            "So rested he by the Tumtum tree,\n",
            "So, always look on the bright side of death\n",
            "  And stood awhile in thought.\n",
            "Just before you draw your terminal breath\n",
            "And, as in uffish thought he stood,\n",
            "Life's a counterfeit and when you look at it\n",
            "  The Jabberwock, with eyes of flame,\n",
            "Life's a laugh and death's the joke, it's true\n",
            "Came whiffling through the tulgey wood,\n",
            "You see, it's all a show, keep them laughing as you go\n",
            "  And burbled as it came!\n",
            "Just remember the last laugh is on you\n",
            "One, two! One, two! And through and through\n",
            "Always look on the bright side of life\n",
            "  The vorpal blade went snicker-snack!\n",
            "And always look on the right side of life\n",
            "He left it dead, and with its head\n",
            "Always look on the bright side of life\n",
            "  He went galumphing back.\n",
            "And always look on the right side of life\n",
            "\n"
          ]
        }
      ]
    },
    {
      "cell_type": "markdown",
      "source": [
        "P15. File Loops"
      ],
      "metadata": {
        "id": "BkVgmWrIgN_p"
      }
    },
    {
      "cell_type": "markdown",
      "source": [
        "P15.1"
      ],
      "metadata": {
        "id": "Z-FO4nnFgOt6"
      }
    },
    {
      "cell_type": "code",
      "source": [
        "with open(\"practice.txt\", \"r\") as data:\n",
        "    for line in data:\n",
        "        print(line.rstrip())\n"
      ],
      "metadata": {
        "colab": {
          "base_uri": "https://localhost:8080/"
        },
        "id": "ptwEkM68gPn3",
        "outputId": "0f5a9e72-3fcb-4f77-f924-c079689041cc"
      },
      "execution_count": 9,
      "outputs": [
        {
          "output_type": "stream",
          "name": "stdout",
          "text": [
            "`Twas brillig, and the slithy toves\n",
            "Some things in life are bad, they can really make you mad\n",
            "  Did gyre and gimble in the wabe:\n",
            "Other things just make you swear and curse\n",
            "All mimsy were the borogoves,\n",
            "When you're chewing on life's gristle, don't grumble give a whistle\n",
            "  And the mome raths outgrabe.\n",
            "This will help things turn out for the best\n",
            "\"Beware the Jabberwock, my son!\n",
            "Always look on the bright side of life\n",
            "  The jaws that bite, the claws that catch!\n",
            "Always look on the right side of life\n",
            "Beware the Jubjub bird, and shun\n",
            "If life seems jolly rotten, there's something you've forgotten\n",
            "  The frumious Bandersnatch!\"\n",
            "And that's to laugh and smile and dance and sing\n",
            "He took his vorpal sword in hand:\n",
            "When you're feeling in the dumps, don't be silly, chumps\n",
            "  Long time the manxome foe he sought --\n",
            "Just purse your lips and whistle, that's the thing\n",
            "So rested he by the Tumtum tree,\n",
            "So, always look on the bright side of death\n",
            "  And stood awhile in thought.\n",
            "Just before you draw your terminal breath\n",
            "And, as in uffish thought he stood,\n",
            "Life's a counterfeit and when you look at it\n",
            "  The Jabberwock, with eyes of flame,\n",
            "Life's a laugh and death's the joke, it's true\n",
            "Came whiffling through the tulgey wood,\n",
            "You see, it's all a show, keep them laughing as you go\n",
            "  And burbled as it came!\n",
            "Just remember the last laugh is on you\n",
            "One, two! One, two! And through and through\n",
            "Always look on the bright side of life\n",
            "  The vorpal blade went snicker-snack!\n",
            "And always look on the right side of life\n",
            "He left it dead, and with its head\n",
            "Always look on the bright side of life\n",
            "  He went galumphing back.\n",
            "And always look on the right side of life\n"
          ]
        }
      ]
    },
    {
      "cell_type": "markdown",
      "source": [
        "P15.2 – Rosalind #4 (Working with Files)"
      ],
      "metadata": {
        "id": "Ybs5hcxDgT6Q"
      }
    },
    {
      "cell_type": "code",
      "source": [
        "with open(\"practice.txt\", \"r\") as data:\n",
        "    for i, line in enumerate(data, start=1):\n",
        "        if i % 2 == 0:\n",
        "            print(line.rstrip())\n"
      ],
      "metadata": {
        "colab": {
          "base_uri": "https://localhost:8080/"
        },
        "id": "PY-I2h2XgVv_",
        "outputId": "7f87a27e-f551-4df4-a73a-13555ee091ee"
      },
      "execution_count": 10,
      "outputs": [
        {
          "output_type": "stream",
          "name": "stdout",
          "text": [
            "Some things in life are bad, they can really make you mad\n",
            "Other things just make you swear and curse\n",
            "When you're chewing on life's gristle, don't grumble give a whistle\n",
            "This will help things turn out for the best\n",
            "Always look on the bright side of life\n",
            "Always look on the right side of life\n",
            "If life seems jolly rotten, there's something you've forgotten\n",
            "And that's to laugh and smile and dance and sing\n",
            "When you're feeling in the dumps, don't be silly, chumps\n",
            "Just purse your lips and whistle, that's the thing\n",
            "So, always look on the bright side of death\n",
            "Just before you draw your terminal breath\n",
            "Life's a counterfeit and when you look at it\n",
            "Life's a laugh and death's the joke, it's true\n",
            "You see, it's all a show, keep them laughing as you go\n",
            "Just remember the last laugh is on you\n",
            "Always look on the bright side of life\n",
            "And always look on the right side of life\n",
            "Always look on the bright side of life\n",
            "And always look on the right side of life\n"
          ]
        }
      ]
    },
    {
      "cell_type": "markdown",
      "source": [
        "P16. Split Strings"
      ],
      "metadata": {
        "id": "iqXSPstYgYBK"
      }
    },
    {
      "cell_type": "markdown",
      "source": [
        "P16.1"
      ],
      "metadata": {
        "id": "2M9OztIKgYZD"
      }
    },
    {
      "cell_type": "code",
      "source": [
        "\n",
        "from google.colab import files\n",
        "uploaded = files.upload()  # pick your practice.txt\n",
        "\n",
        "# practice_5.txt: one or more lines of text\n",
        "with open(\"practice_5.txt\", \"r\") as f:\n",
        "    for line in f:\n",
        "        for word in line.split():\n",
        "            print(word)\n"
      ],
      "metadata": {
        "colab": {
          "base_uri": "https://localhost:8080/",
          "height": 1000
        },
        "id": "8gKmyOtpgZa-",
        "outputId": "880b4d0f-d647-4e01-f201-8684d0d29a69"
      },
      "execution_count": 11,
      "outputs": [
        {
          "output_type": "display_data",
          "data": {
            "text/plain": [
              "<IPython.core.display.HTML object>"
            ],
            "text/html": [
              "\n",
              "     <input type=\"file\" id=\"files-f1785473-5cf4-4b2a-a5a3-0fc7f354eb15\" name=\"files[]\" multiple disabled\n",
              "        style=\"border:none\" />\n",
              "     <output id=\"result-f1785473-5cf4-4b2a-a5a3-0fc7f354eb15\">\n",
              "      Upload widget is only available when the cell has been executed in the\n",
              "      current browser session. Please rerun this cell to enable.\n",
              "      </output>\n",
              "      <script>// Copyright 2017 Google LLC\n",
              "//\n",
              "// Licensed under the Apache License, Version 2.0 (the \"License\");\n",
              "// you may not use this file except in compliance with the License.\n",
              "// You may obtain a copy of the License at\n",
              "//\n",
              "//      http://www.apache.org/licenses/LICENSE-2.0\n",
              "//\n",
              "// Unless required by applicable law or agreed to in writing, software\n",
              "// distributed under the License is distributed on an \"AS IS\" BASIS,\n",
              "// WITHOUT WARRANTIES OR CONDITIONS OF ANY KIND, either express or implied.\n",
              "// See the License for the specific language governing permissions and\n",
              "// limitations under the License.\n",
              "\n",
              "/**\n",
              " * @fileoverview Helpers for google.colab Python module.\n",
              " */\n",
              "(function(scope) {\n",
              "function span(text, styleAttributes = {}) {\n",
              "  const element = document.createElement('span');\n",
              "  element.textContent = text;\n",
              "  for (const key of Object.keys(styleAttributes)) {\n",
              "    element.style[key] = styleAttributes[key];\n",
              "  }\n",
              "  return element;\n",
              "}\n",
              "\n",
              "// Max number of bytes which will be uploaded at a time.\n",
              "const MAX_PAYLOAD_SIZE = 100 * 1024;\n",
              "\n",
              "function _uploadFiles(inputId, outputId) {\n",
              "  const steps = uploadFilesStep(inputId, outputId);\n",
              "  const outputElement = document.getElementById(outputId);\n",
              "  // Cache steps on the outputElement to make it available for the next call\n",
              "  // to uploadFilesContinue from Python.\n",
              "  outputElement.steps = steps;\n",
              "\n",
              "  return _uploadFilesContinue(outputId);\n",
              "}\n",
              "\n",
              "// This is roughly an async generator (not supported in the browser yet),\n",
              "// where there are multiple asynchronous steps and the Python side is going\n",
              "// to poll for completion of each step.\n",
              "// This uses a Promise to block the python side on completion of each step,\n",
              "// then passes the result of the previous step as the input to the next step.\n",
              "function _uploadFilesContinue(outputId) {\n",
              "  const outputElement = document.getElementById(outputId);\n",
              "  const steps = outputElement.steps;\n",
              "\n",
              "  const next = steps.next(outputElement.lastPromiseValue);\n",
              "  return Promise.resolve(next.value.promise).then((value) => {\n",
              "    // Cache the last promise value to make it available to the next\n",
              "    // step of the generator.\n",
              "    outputElement.lastPromiseValue = value;\n",
              "    return next.value.response;\n",
              "  });\n",
              "}\n",
              "\n",
              "/**\n",
              " * Generator function which is called between each async step of the upload\n",
              " * process.\n",
              " * @param {string} inputId Element ID of the input file picker element.\n",
              " * @param {string} outputId Element ID of the output display.\n",
              " * @return {!Iterable<!Object>} Iterable of next steps.\n",
              " */\n",
              "function* uploadFilesStep(inputId, outputId) {\n",
              "  const inputElement = document.getElementById(inputId);\n",
              "  inputElement.disabled = false;\n",
              "\n",
              "  const outputElement = document.getElementById(outputId);\n",
              "  outputElement.innerHTML = '';\n",
              "\n",
              "  const pickedPromise = new Promise((resolve) => {\n",
              "    inputElement.addEventListener('change', (e) => {\n",
              "      resolve(e.target.files);\n",
              "    });\n",
              "  });\n",
              "\n",
              "  const cancel = document.createElement('button');\n",
              "  inputElement.parentElement.appendChild(cancel);\n",
              "  cancel.textContent = 'Cancel upload';\n",
              "  const cancelPromise = new Promise((resolve) => {\n",
              "    cancel.onclick = () => {\n",
              "      resolve(null);\n",
              "    };\n",
              "  });\n",
              "\n",
              "  // Wait for the user to pick the files.\n",
              "  const files = yield {\n",
              "    promise: Promise.race([pickedPromise, cancelPromise]),\n",
              "    response: {\n",
              "      action: 'starting',\n",
              "    }\n",
              "  };\n",
              "\n",
              "  cancel.remove();\n",
              "\n",
              "  // Disable the input element since further picks are not allowed.\n",
              "  inputElement.disabled = true;\n",
              "\n",
              "  if (!files) {\n",
              "    return {\n",
              "      response: {\n",
              "        action: 'complete',\n",
              "      }\n",
              "    };\n",
              "  }\n",
              "\n",
              "  for (const file of files) {\n",
              "    const li = document.createElement('li');\n",
              "    li.append(span(file.name, {fontWeight: 'bold'}));\n",
              "    li.append(span(\n",
              "        `(${file.type || 'n/a'}) - ${file.size} bytes, ` +\n",
              "        `last modified: ${\n",
              "            file.lastModifiedDate ? file.lastModifiedDate.toLocaleDateString() :\n",
              "                                    'n/a'} - `));\n",
              "    const percent = span('0% done');\n",
              "    li.appendChild(percent);\n",
              "\n",
              "    outputElement.appendChild(li);\n",
              "\n",
              "    const fileDataPromise = new Promise((resolve) => {\n",
              "      const reader = new FileReader();\n",
              "      reader.onload = (e) => {\n",
              "        resolve(e.target.result);\n",
              "      };\n",
              "      reader.readAsArrayBuffer(file);\n",
              "    });\n",
              "    // Wait for the data to be ready.\n",
              "    let fileData = yield {\n",
              "      promise: fileDataPromise,\n",
              "      response: {\n",
              "        action: 'continue',\n",
              "      }\n",
              "    };\n",
              "\n",
              "    // Use a chunked sending to avoid message size limits. See b/62115660.\n",
              "    let position = 0;\n",
              "    do {\n",
              "      const length = Math.min(fileData.byteLength - position, MAX_PAYLOAD_SIZE);\n",
              "      const chunk = new Uint8Array(fileData, position, length);\n",
              "      position += length;\n",
              "\n",
              "      const base64 = btoa(String.fromCharCode.apply(null, chunk));\n",
              "      yield {\n",
              "        response: {\n",
              "          action: 'append',\n",
              "          file: file.name,\n",
              "          data: base64,\n",
              "        },\n",
              "      };\n",
              "\n",
              "      let percentDone = fileData.byteLength === 0 ?\n",
              "          100 :\n",
              "          Math.round((position / fileData.byteLength) * 100);\n",
              "      percent.textContent = `${percentDone}% done`;\n",
              "\n",
              "    } while (position < fileData.byteLength);\n",
              "  }\n",
              "\n",
              "  // All done.\n",
              "  yield {\n",
              "    response: {\n",
              "      action: 'complete',\n",
              "    }\n",
              "  };\n",
              "}\n",
              "\n",
              "scope.google = scope.google || {};\n",
              "scope.google.colab = scope.google.colab || {};\n",
              "scope.google.colab._files = {\n",
              "  _uploadFiles,\n",
              "  _uploadFilesContinue,\n",
              "};\n",
              "})(self);\n",
              "</script> "
            ]
          },
          "metadata": {}
        },
        {
          "output_type": "stream",
          "name": "stdout",
          "text": [
            "Saving practice_5.txt to practice_5.txt\n",
            "When\n",
            "I\n",
            "find\n",
            "myself\n",
            "in\n",
            "times\n",
            "of\n",
            "trouble\n",
            "Mother\n",
            "Mary\n",
            "comes\n",
            "to\n",
            "me\n",
            "Speaking\n",
            "words\n",
            "of\n",
            "wisdom\n",
            "let\n",
            "it\n",
            "be\n",
            "And\n",
            "in\n",
            "my\n",
            "hour\n",
            "of\n",
            "darkness\n",
            "she\n",
            "is\n",
            "standing\n",
            "right\n",
            "in\n",
            "front\n",
            "of\n",
            "me\n",
            "Speaking\n",
            "words\n",
            "of\n",
            "wisdom\n",
            "let\n",
            "it\n",
            "be\n",
            "Let\n",
            "it\n",
            "be\n",
            "let\n",
            "it\n",
            "be\n",
            "let\n",
            "it\n",
            "be\n",
            "let\n",
            "it\n",
            "be\n",
            "Whisper\n",
            "words\n",
            "of\n",
            "wisdom\n",
            "let\n",
            "it\n",
            "be\n",
            "And\n",
            "when\n",
            "the\n",
            "broken\n",
            "hearted\n",
            "people\n",
            "living\n",
            "in\n",
            "the\n",
            "world\n",
            "agree\n",
            "There\n",
            "will\n",
            "be\n",
            "an\n",
            "answer\n",
            "let\n",
            "it\n",
            "be\n",
            "For\n",
            "though\n",
            "they\n",
            "may\n",
            "be\n",
            "parted\n",
            "there\n",
            "is\n",
            "still\n",
            "a\n",
            "chance\n",
            "that\n",
            "they\n",
            "will\n",
            "see\n",
            "There\n",
            "will\n",
            "be\n",
            "an\n",
            "answer\n",
            "let\n",
            "it\n",
            "be\n",
            "Let\n",
            "it\n",
            "be\n",
            "let\n",
            "it\n",
            "be\n",
            "let\n",
            "it\n",
            "be\n",
            "let\n",
            "it\n",
            "be\n",
            "There\n",
            "will\n",
            "be\n",
            "an\n",
            "answer\n",
            "let\n",
            "it\n",
            "be\n",
            "Let\n",
            "it\n",
            "be\n",
            "let\n",
            "it\n",
            "be\n",
            "let\n",
            "it\n",
            "be\n",
            "let\n",
            "it\n",
            "be\n",
            "Whisper\n",
            "words\n",
            "of\n",
            "wisdom\n",
            "let\n",
            "it\n",
            "be\n",
            "Let\n",
            "it\n",
            "be\n",
            "let\n",
            "it\n",
            "be\n",
            "let\n",
            "it\n",
            "be\n",
            "let\n",
            "it\n",
            "be\n",
            "Whisper\n",
            "words\n",
            "of\n",
            "wisdom\n",
            "let\n",
            "it\n",
            "be\n",
            "And\n",
            "when\n",
            "the\n",
            "night\n",
            "is\n",
            "cloudy\n",
            "there\n",
            "is\n",
            "still\n",
            "a\n",
            "light\n",
            "that\n",
            "shines\n",
            "on\n",
            "me\n",
            "Shine\n",
            "until\n",
            "tomorrow\n",
            "let\n",
            "it\n",
            "be\n",
            "I\n",
            "wake\n",
            "up\n",
            "to\n",
            "the\n",
            "sound\n",
            "of\n",
            "music\n",
            "Mother\n",
            "Mary\n",
            "comes\n",
            "to\n",
            "me\n",
            "Speaking\n",
            "words\n",
            "of\n",
            "wisdom\n",
            "let\n",
            "it\n",
            "be\n",
            "Let\n",
            "it\n",
            "be\n",
            "let\n",
            "it\n",
            "be\n",
            "let\n",
            "it\n",
            "be\n",
            "yeah\n",
            "let\n",
            "it\n",
            "be\n",
            "There\n",
            "will\n",
            "be\n",
            "an\n",
            "answer\n",
            "let\n",
            "it\n",
            "be\n",
            "Let\n",
            "it\n",
            "be\n",
            "let\n",
            "it\n",
            "be\n",
            "let\n",
            "it\n",
            "be\n",
            "yeah\n",
            "let\n",
            "it\n",
            "be\n",
            "Whisper\n",
            "words\n",
            "of\n",
            "wisdom\n",
            "let\n",
            "it\n",
            "be\n"
          ]
        }
      ]
    },
    {
      "cell_type": "markdown",
      "source": [],
      "metadata": {
        "id": "6Cv95ffFgUSH"
      }
    },
    {
      "cell_type": "markdown",
      "source": [
        "P17. Dictionaries – Basics"
      ],
      "metadata": {
        "id": "QPBOZGychG9k"
      }
    },
    {
      "cell_type": "markdown",
      "source": [
        "P17.1"
      ],
      "metadata": {
        "id": "Lealy6i4hJJA"
      }
    },
    {
      "cell_type": "code",
      "source": [
        "sequences = {\n",
        "    \"H.sapiens\": \"ATGCGT\",\n",
        "    \"P.troglodytes\": \"ATGAGT\",\n",
        "    \"G.gorilla\": \"ATGCGC\"\n",
        "}\n",
        "print(sequences)\n",
        "print(sequences[\"H.sapiens\"])\n"
      ],
      "metadata": {
        "colab": {
          "base_uri": "https://localhost:8080/"
        },
        "id": "-_tsPrxFhKHu",
        "outputId": "bb29e150-8e63-4fb8-d630-9204c4129a62"
      },
      "execution_count": 12,
      "outputs": [
        {
          "output_type": "stream",
          "name": "stdout",
          "text": [
            "{'H.sapiens': 'ATGCGT', 'P.troglodytes': 'ATGAGT', 'G.gorilla': 'ATGCGC'}\n",
            "ATGCGT\n"
          ]
        }
      ]
    },
    {
      "cell_type": "markdown",
      "source": [
        "P18. Dictionaries – Manipulating & Printing"
      ],
      "metadata": {
        "id": "GX9o3DqnhLcO"
      }
    },
    {
      "cell_type": "markdown",
      "source": [
        "P18.1 – Create FASTA file from dict"
      ],
      "metadata": {
        "id": "CaZwADUMhMm_"
      }
    },
    {
      "cell_type": "code",
      "source": [
        "sequences.update({\"H.neanderthalensis\": \"ATGAAA\"})  # example add\n",
        "with open(\"hominids.fasta\", \"w\") as out:\n",
        "    for key, val in sequences.items():\n",
        "        out.write(f\">{key}\\n{val}\\n\")\n",
        "print(\"Wrote hominids.fasta\")\n"
      ],
      "metadata": {
        "colab": {
          "base_uri": "https://localhost:8080/"
        },
        "id": "vlkGQ27EhNib",
        "outputId": "63d5587c-0dae-4752-d7a5-e09b2be04398"
      },
      "execution_count": 13,
      "outputs": [
        {
          "output_type": "stream",
          "name": "stdout",
          "text": [
            "Wrote hominids.fasta\n"
          ]
        }
      ]
    },
    {
      "cell_type": "markdown",
      "source": [
        "P18.2 – Rosalind #5 (Dictionaries / Word Count)"
      ],
      "metadata": {
        "id": "yTZv8irbhOnd"
      }
    },
    {
      "cell_type": "code",
      "source": [
        "from collections import Counter\n",
        "\n",
        "# input.txt contains a single line (or multiple) of words\n",
        "with open(\"practice_5.txt\", \"r\") as f:\n",
        "    words = f.read().split()\n",
        "\n",
        "counts = Counter(words)\n",
        "for w, c in counts.items():   # order arbitrary is fine; to sort: for w in sorted(counts)\n",
        "    print(w, c)\n"
      ],
      "metadata": {
        "colab": {
          "base_uri": "https://localhost:8080/"
        },
        "id": "hwzUg8huhRAL",
        "outputId": "18d9f1cb-6493-4245-927a-27a6e2c8a2b7"
      },
      "execution_count": 14,
      "outputs": [
        {
          "output_type": "stream",
          "name": "stdout",
          "text": [
            "When 1\n",
            "I 2\n",
            "find 1\n",
            "myself 1\n",
            "in 4\n",
            "times 1\n",
            "of 11\n",
            "trouble 1\n",
            "Mother 2\n",
            "Mary 2\n",
            "comes 2\n",
            "to 3\n",
            "me 4\n",
            "Speaking 3\n",
            "words 7\n",
            "wisdom 7\n",
            "let 30\n",
            "it 36\n",
            "be 41\n",
            "And 3\n",
            "my 1\n",
            "hour 1\n",
            "darkness 1\n",
            "she 1\n",
            "is 4\n",
            "standing 1\n",
            "right 1\n",
            "front 1\n",
            "Let 6\n",
            "Whisper 4\n",
            "when 2\n",
            "the 4\n",
            "broken 1\n",
            "hearted 1\n",
            "people 1\n",
            "living 1\n",
            "world 1\n",
            "agree 1\n",
            "There 4\n",
            "will 5\n",
            "an 4\n",
            "answer 4\n",
            "For 1\n",
            "though 1\n",
            "they 2\n",
            "may 1\n",
            "parted 1\n",
            "there 2\n",
            "still 2\n",
            "a 2\n",
            "chance 1\n",
            "that 2\n",
            "see 1\n",
            "night 1\n",
            "cloudy 1\n",
            "light 1\n",
            "shines 1\n",
            "on 1\n",
            "Shine 1\n",
            "until 1\n",
            "tomorrow 1\n",
            "wake 1\n",
            "up 1\n",
            "sound 1\n",
            "music 1\n",
            "yeah 2\n"
          ]
        }
      ]
    },
    {
      "cell_type": "markdown",
      "source": [
        "P19. count() – Counting Things"
      ],
      "metadata": {
        "id": "DyuszBVPhf4o"
      }
    },
    {
      "cell_type": "markdown",
      "source": [
        "P19.1 – Rosalind #6 (Counting DNA Nucleotides)"
      ],
      "metadata": {
        "id": "7KTSroRNhhiI"
      }
    },
    {
      "cell_type": "code",
      "source": [
        "\n",
        "from google.colab import files\n",
        "uploaded = files.upload()  # pick your practice.txt# dna.txt contains one DNA string\n",
        "\n",
        "with open(\"dna.txt\", \"r\") as f:\n",
        "    s = f.read().strip()\n",
        "\n",
        "print(s.count(\"A\"), s.count(\"C\"), s.count(\"G\"), s.count(\"T\"))\n"
      ],
      "metadata": {
        "colab": {
          "base_uri": "https://localhost:8080/",
          "height": 91
        },
        "id": "neO5Lc7Fhh_q",
        "outputId": "37d4b494-6f5d-4690-d259-bca5d94c40b7"
      },
      "execution_count": 21,
      "outputs": [
        {
          "output_type": "display_data",
          "data": {
            "text/plain": [
              "<IPython.core.display.HTML object>"
            ],
            "text/html": [
              "\n",
              "     <input type=\"file\" id=\"files-a5c27c92-857a-47ff-a5be-f35e5fd32413\" name=\"files[]\" multiple disabled\n",
              "        style=\"border:none\" />\n",
              "     <output id=\"result-a5c27c92-857a-47ff-a5be-f35e5fd32413\">\n",
              "      Upload widget is only available when the cell has been executed in the\n",
              "      current browser session. Please rerun this cell to enable.\n",
              "      </output>\n",
              "      <script>// Copyright 2017 Google LLC\n",
              "//\n",
              "// Licensed under the Apache License, Version 2.0 (the \"License\");\n",
              "// you may not use this file except in compliance with the License.\n",
              "// You may obtain a copy of the License at\n",
              "//\n",
              "//      http://www.apache.org/licenses/LICENSE-2.0\n",
              "//\n",
              "// Unless required by applicable law or agreed to in writing, software\n",
              "// distributed under the License is distributed on an \"AS IS\" BASIS,\n",
              "// WITHOUT WARRANTIES OR CONDITIONS OF ANY KIND, either express or implied.\n",
              "// See the License for the specific language governing permissions and\n",
              "// limitations under the License.\n",
              "\n",
              "/**\n",
              " * @fileoverview Helpers for google.colab Python module.\n",
              " */\n",
              "(function(scope) {\n",
              "function span(text, styleAttributes = {}) {\n",
              "  const element = document.createElement('span');\n",
              "  element.textContent = text;\n",
              "  for (const key of Object.keys(styleAttributes)) {\n",
              "    element.style[key] = styleAttributes[key];\n",
              "  }\n",
              "  return element;\n",
              "}\n",
              "\n",
              "// Max number of bytes which will be uploaded at a time.\n",
              "const MAX_PAYLOAD_SIZE = 100 * 1024;\n",
              "\n",
              "function _uploadFiles(inputId, outputId) {\n",
              "  const steps = uploadFilesStep(inputId, outputId);\n",
              "  const outputElement = document.getElementById(outputId);\n",
              "  // Cache steps on the outputElement to make it available for the next call\n",
              "  // to uploadFilesContinue from Python.\n",
              "  outputElement.steps = steps;\n",
              "\n",
              "  return _uploadFilesContinue(outputId);\n",
              "}\n",
              "\n",
              "// This is roughly an async generator (not supported in the browser yet),\n",
              "// where there are multiple asynchronous steps and the Python side is going\n",
              "// to poll for completion of each step.\n",
              "// This uses a Promise to block the python side on completion of each step,\n",
              "// then passes the result of the previous step as the input to the next step.\n",
              "function _uploadFilesContinue(outputId) {\n",
              "  const outputElement = document.getElementById(outputId);\n",
              "  const steps = outputElement.steps;\n",
              "\n",
              "  const next = steps.next(outputElement.lastPromiseValue);\n",
              "  return Promise.resolve(next.value.promise).then((value) => {\n",
              "    // Cache the last promise value to make it available to the next\n",
              "    // step of the generator.\n",
              "    outputElement.lastPromiseValue = value;\n",
              "    return next.value.response;\n",
              "  });\n",
              "}\n",
              "\n",
              "/**\n",
              " * Generator function which is called between each async step of the upload\n",
              " * process.\n",
              " * @param {string} inputId Element ID of the input file picker element.\n",
              " * @param {string} outputId Element ID of the output display.\n",
              " * @return {!Iterable<!Object>} Iterable of next steps.\n",
              " */\n",
              "function* uploadFilesStep(inputId, outputId) {\n",
              "  const inputElement = document.getElementById(inputId);\n",
              "  inputElement.disabled = false;\n",
              "\n",
              "  const outputElement = document.getElementById(outputId);\n",
              "  outputElement.innerHTML = '';\n",
              "\n",
              "  const pickedPromise = new Promise((resolve) => {\n",
              "    inputElement.addEventListener('change', (e) => {\n",
              "      resolve(e.target.files);\n",
              "    });\n",
              "  });\n",
              "\n",
              "  const cancel = document.createElement('button');\n",
              "  inputElement.parentElement.appendChild(cancel);\n",
              "  cancel.textContent = 'Cancel upload';\n",
              "  const cancelPromise = new Promise((resolve) => {\n",
              "    cancel.onclick = () => {\n",
              "      resolve(null);\n",
              "    };\n",
              "  });\n",
              "\n",
              "  // Wait for the user to pick the files.\n",
              "  const files = yield {\n",
              "    promise: Promise.race([pickedPromise, cancelPromise]),\n",
              "    response: {\n",
              "      action: 'starting',\n",
              "    }\n",
              "  };\n",
              "\n",
              "  cancel.remove();\n",
              "\n",
              "  // Disable the input element since further picks are not allowed.\n",
              "  inputElement.disabled = true;\n",
              "\n",
              "  if (!files) {\n",
              "    return {\n",
              "      response: {\n",
              "        action: 'complete',\n",
              "      }\n",
              "    };\n",
              "  }\n",
              "\n",
              "  for (const file of files) {\n",
              "    const li = document.createElement('li');\n",
              "    li.append(span(file.name, {fontWeight: 'bold'}));\n",
              "    li.append(span(\n",
              "        `(${file.type || 'n/a'}) - ${file.size} bytes, ` +\n",
              "        `last modified: ${\n",
              "            file.lastModifiedDate ? file.lastModifiedDate.toLocaleDateString() :\n",
              "                                    'n/a'} - `));\n",
              "    const percent = span('0% done');\n",
              "    li.appendChild(percent);\n",
              "\n",
              "    outputElement.appendChild(li);\n",
              "\n",
              "    const fileDataPromise = new Promise((resolve) => {\n",
              "      const reader = new FileReader();\n",
              "      reader.onload = (e) => {\n",
              "        resolve(e.target.result);\n",
              "      };\n",
              "      reader.readAsArrayBuffer(file);\n",
              "    });\n",
              "    // Wait for the data to be ready.\n",
              "    let fileData = yield {\n",
              "      promise: fileDataPromise,\n",
              "      response: {\n",
              "        action: 'continue',\n",
              "      }\n",
              "    };\n",
              "\n",
              "    // Use a chunked sending to avoid message size limits. See b/62115660.\n",
              "    let position = 0;\n",
              "    do {\n",
              "      const length = Math.min(fileData.byteLength - position, MAX_PAYLOAD_SIZE);\n",
              "      const chunk = new Uint8Array(fileData, position, length);\n",
              "      position += length;\n",
              "\n",
              "      const base64 = btoa(String.fromCharCode.apply(null, chunk));\n",
              "      yield {\n",
              "        response: {\n",
              "          action: 'append',\n",
              "          file: file.name,\n",
              "          data: base64,\n",
              "        },\n",
              "      };\n",
              "\n",
              "      let percentDone = fileData.byteLength === 0 ?\n",
              "          100 :\n",
              "          Math.round((position / fileData.byteLength) * 100);\n",
              "      percent.textContent = `${percentDone}% done`;\n",
              "\n",
              "    } while (position < fileData.byteLength);\n",
              "  }\n",
              "\n",
              "  // All done.\n",
              "  yield {\n",
              "    response: {\n",
              "      action: 'complete',\n",
              "    }\n",
              "  };\n",
              "}\n",
              "\n",
              "scope.google = scope.google || {};\n",
              "scope.google.colab = scope.google.colab || {};\n",
              "scope.google.colab._files = {\n",
              "  _uploadFiles,\n",
              "  _uploadFilesContinue,\n",
              "};\n",
              "})(self);\n",
              "</script> "
            ]
          },
          "metadata": {}
        },
        {
          "output_type": "stream",
          "name": "stdout",
          "text": [
            "Saving dna.txt to dna (1).txt\n",
            "223 195 195 201\n"
          ]
        }
      ]
    },
    {
      "cell_type": "markdown",
      "source": [
        "P19.2 – Rework word count using count() on unseen words"
      ],
      "metadata": {
        "id": "GRiUg0xOjDMQ"
      }
    },
    {
      "cell_type": "code",
      "source": [
        "with open(\"dna.txt\", \"r\") as f:\n",
        "    text = f.read()\n",
        "words = text.split()\n",
        "\n",
        "counts = {}\n",
        "for w in words:\n",
        "    if w not in counts:\n",
        "        counts[w] = words.count(w)   # only count when first seen\n",
        "for w, c in counts.items():\n",
        "    print(w, c)\n"
      ],
      "metadata": {
        "colab": {
          "base_uri": "https://localhost:8080/"
        },
        "id": "MIKVy-q9jEb1",
        "outputId": "8b281581-2854-466d-8c4f-c69ee5001ad7"
      },
      "execution_count": 26,
      "outputs": [
        {
          "output_type": "stream",
          "name": "stdout",
          "text": [
            "GTCATCAGATGTTTCTTGTTTCTTACGCTTCAATCCTGCAGGGGGTTGTCTATACCGATCAGAACCCTGGGAATATCATTAACCATGGCAGAGAACAGAAATATGATGACGTCTACGGTAATGGGAAGGAGTCCTCTTATAATCCCAGAGGACTTCACAAGGCCAATTCGCATCACACACACACTTACTCAGCCGTCGCGCGGAGACTTAAAGTAGGGTCCAGCTAAAAATGATTCGGCCTTTTCACCGTAGATACGTAGGCCAGCGTGGGCATGCAACTGTTAGCAACATTCCGACCTGCCGACCCTATGGAGGCAAGTCTCACACCGAACTCGCAATGGGGGATAGAGGTCGGCATGCTGGACTGAAGTGTTTCAGGGGCACAGCGCTGGGATAACCAGCCGCACAACGTGTCGCGATAACAACCAGGAATCTCTGAACACGAGTTGGGGCGTATCTATTAACGTTAACACAGACTCTCTTAGAGCAGTGGCAGCAAGCAATTGACTCAGCCCCGCGCAATCAACGCGCTCGTTTGGGTCCTCAGGTGGAACTCTGCTAGTGTACTGGATTACTTGCTCATTAACCAATCTTATCTAGCGCAGACGGATCTCATAGGCGCCGTAATATAAAACACATATCTAGCATTTGATGTACAAATATTGCACCGATCTTACTTCTAGCATAAAGCAAACATTAAATCTTTCTATACAGGCTACGAGACGGACGTACGAATGCCCGTATAGTTGGCTGGCTCGGCTAATCGTAAAAACTGGGTATTCTGATTCGTGGGTCATAAGGTGCTAGGTTTTTG 1\n"
          ]
        }
      ]
    },
    {
      "cell_type": "markdown",
      "source": [
        "P20. Installing Biopython"
      ],
      "metadata": {
        "id": "d4MIajDosHZ2"
      }
    },
    {
      "cell_type": "markdown",
      "source": [
        "P20.1"
      ],
      "metadata": {
        "id": "GLOG92_OsIlH"
      }
    },
    {
      "cell_type": "code",
      "source": [
        "!pip install biopython\n",
        "import Bio\n",
        "from Bio.Seq import Seq\n",
        "print(\"Biopython OK. Version:\", Bio.__version__)\n",
        "print(\"Seq test:\", Seq(\"AGTAC\").complement())\n"
      ],
      "metadata": {
        "colab": {
          "base_uri": "https://localhost:8080/"
        },
        "id": "7L_wONipsJ3H",
        "outputId": "793d70d4-2aca-4727-b86d-cbb2fee7d036"
      },
      "execution_count": 25,
      "outputs": [
        {
          "output_type": "stream",
          "name": "stdout",
          "text": [
            "Requirement already satisfied: biopython in /usr/local/lib/python3.12/dist-packages (1.85)\n",
            "Requirement already satisfied: numpy in /usr/local/lib/python3.12/dist-packages (from biopython) (2.0.2)\n",
            "Biopython OK. Version: 1.85\n",
            "Seq test: TCATG\n"
          ]
        }
      ]
    },
    {
      "cell_type": "markdown",
      "source": [
        "P21. Seq() – Sequence Objects"
      ],
      "metadata": {
        "id": "ZvsdQTf3sa5k"
      }
    },
    {
      "cell_type": "markdown",
      "source": [
        "P21.1 – Rosalind #7 (Transcribing DNA into RNA)"
      ],
      "metadata": {
        "id": "37dxEgv5scot"
      }
    },
    {
      "cell_type": "code",
      "source": [
        "from Bio.Seq import Seq\n",
        "from google.colab import files\n",
        "uploaded = files.upload()  # pick your practice.txt# dna.txt contains one DNA string\n",
        "with open(\"dnar.txt\", \"r\") as f:\n",
        "    dna= Seq(f.read().strip())\n",
        "\n",
        "rna = dna.transcribe()  # T->U\n",
        "print(rna)\n"
      ],
      "metadata": {
        "colab": {
          "base_uri": "https://localhost:8080/",
          "height": 111
        },
        "id": "xe_w-Vl-sdGs",
        "outputId": "15634174-0d48-4f9c-b7d8-5f0b4d28bbb1"
      },
      "execution_count": 46,
      "outputs": [
        {
          "output_type": "display_data",
          "data": {
            "text/plain": [
              "<IPython.core.display.HTML object>"
            ],
            "text/html": [
              "\n",
              "     <input type=\"file\" id=\"files-9a1e77dc-9cc7-497d-a46c-9d3f9b278da6\" name=\"files[]\" multiple disabled\n",
              "        style=\"border:none\" />\n",
              "     <output id=\"result-9a1e77dc-9cc7-497d-a46c-9d3f9b278da6\">\n",
              "      Upload widget is only available when the cell has been executed in the\n",
              "      current browser session. Please rerun this cell to enable.\n",
              "      </output>\n",
              "      <script>// Copyright 2017 Google LLC\n",
              "//\n",
              "// Licensed under the Apache License, Version 2.0 (the \"License\");\n",
              "// you may not use this file except in compliance with the License.\n",
              "// You may obtain a copy of the License at\n",
              "//\n",
              "//      http://www.apache.org/licenses/LICENSE-2.0\n",
              "//\n",
              "// Unless required by applicable law or agreed to in writing, software\n",
              "// distributed under the License is distributed on an \"AS IS\" BASIS,\n",
              "// WITHOUT WARRANTIES OR CONDITIONS OF ANY KIND, either express or implied.\n",
              "// See the License for the specific language governing permissions and\n",
              "// limitations under the License.\n",
              "\n",
              "/**\n",
              " * @fileoverview Helpers for google.colab Python module.\n",
              " */\n",
              "(function(scope) {\n",
              "function span(text, styleAttributes = {}) {\n",
              "  const element = document.createElement('span');\n",
              "  element.textContent = text;\n",
              "  for (const key of Object.keys(styleAttributes)) {\n",
              "    element.style[key] = styleAttributes[key];\n",
              "  }\n",
              "  return element;\n",
              "}\n",
              "\n",
              "// Max number of bytes which will be uploaded at a time.\n",
              "const MAX_PAYLOAD_SIZE = 100 * 1024;\n",
              "\n",
              "function _uploadFiles(inputId, outputId) {\n",
              "  const steps = uploadFilesStep(inputId, outputId);\n",
              "  const outputElement = document.getElementById(outputId);\n",
              "  // Cache steps on the outputElement to make it available for the next call\n",
              "  // to uploadFilesContinue from Python.\n",
              "  outputElement.steps = steps;\n",
              "\n",
              "  return _uploadFilesContinue(outputId);\n",
              "}\n",
              "\n",
              "// This is roughly an async generator (not supported in the browser yet),\n",
              "// where there are multiple asynchronous steps and the Python side is going\n",
              "// to poll for completion of each step.\n",
              "// This uses a Promise to block the python side on completion of each step,\n",
              "// then passes the result of the previous step as the input to the next step.\n",
              "function _uploadFilesContinue(outputId) {\n",
              "  const outputElement = document.getElementById(outputId);\n",
              "  const steps = outputElement.steps;\n",
              "\n",
              "  const next = steps.next(outputElement.lastPromiseValue);\n",
              "  return Promise.resolve(next.value.promise).then((value) => {\n",
              "    // Cache the last promise value to make it available to the next\n",
              "    // step of the generator.\n",
              "    outputElement.lastPromiseValue = value;\n",
              "    return next.value.response;\n",
              "  });\n",
              "}\n",
              "\n",
              "/**\n",
              " * Generator function which is called between each async step of the upload\n",
              " * process.\n",
              " * @param {string} inputId Element ID of the input file picker element.\n",
              " * @param {string} outputId Element ID of the output display.\n",
              " * @return {!Iterable<!Object>} Iterable of next steps.\n",
              " */\n",
              "function* uploadFilesStep(inputId, outputId) {\n",
              "  const inputElement = document.getElementById(inputId);\n",
              "  inputElement.disabled = false;\n",
              "\n",
              "  const outputElement = document.getElementById(outputId);\n",
              "  outputElement.innerHTML = '';\n",
              "\n",
              "  const pickedPromise = new Promise((resolve) => {\n",
              "    inputElement.addEventListener('change', (e) => {\n",
              "      resolve(e.target.files);\n",
              "    });\n",
              "  });\n",
              "\n",
              "  const cancel = document.createElement('button');\n",
              "  inputElement.parentElement.appendChild(cancel);\n",
              "  cancel.textContent = 'Cancel upload';\n",
              "  const cancelPromise = new Promise((resolve) => {\n",
              "    cancel.onclick = () => {\n",
              "      resolve(null);\n",
              "    };\n",
              "  });\n",
              "\n",
              "  // Wait for the user to pick the files.\n",
              "  const files = yield {\n",
              "    promise: Promise.race([pickedPromise, cancelPromise]),\n",
              "    response: {\n",
              "      action: 'starting',\n",
              "    }\n",
              "  };\n",
              "\n",
              "  cancel.remove();\n",
              "\n",
              "  // Disable the input element since further picks are not allowed.\n",
              "  inputElement.disabled = true;\n",
              "\n",
              "  if (!files) {\n",
              "    return {\n",
              "      response: {\n",
              "        action: 'complete',\n",
              "      }\n",
              "    };\n",
              "  }\n",
              "\n",
              "  for (const file of files) {\n",
              "    const li = document.createElement('li');\n",
              "    li.append(span(file.name, {fontWeight: 'bold'}));\n",
              "    li.append(span(\n",
              "        `(${file.type || 'n/a'}) - ${file.size} bytes, ` +\n",
              "        `last modified: ${\n",
              "            file.lastModifiedDate ? file.lastModifiedDate.toLocaleDateString() :\n",
              "                                    'n/a'} - `));\n",
              "    const percent = span('0% done');\n",
              "    li.appendChild(percent);\n",
              "\n",
              "    outputElement.appendChild(li);\n",
              "\n",
              "    const fileDataPromise = new Promise((resolve) => {\n",
              "      const reader = new FileReader();\n",
              "      reader.onload = (e) => {\n",
              "        resolve(e.target.result);\n",
              "      };\n",
              "      reader.readAsArrayBuffer(file);\n",
              "    });\n",
              "    // Wait for the data to be ready.\n",
              "    let fileData = yield {\n",
              "      promise: fileDataPromise,\n",
              "      response: {\n",
              "        action: 'continue',\n",
              "      }\n",
              "    };\n",
              "\n",
              "    // Use a chunked sending to avoid message size limits. See b/62115660.\n",
              "    let position = 0;\n",
              "    do {\n",
              "      const length = Math.min(fileData.byteLength - position, MAX_PAYLOAD_SIZE);\n",
              "      const chunk = new Uint8Array(fileData, position, length);\n",
              "      position += length;\n",
              "\n",
              "      const base64 = btoa(String.fromCharCode.apply(null, chunk));\n",
              "      yield {\n",
              "        response: {\n",
              "          action: 'append',\n",
              "          file: file.name,\n",
              "          data: base64,\n",
              "        },\n",
              "      };\n",
              "\n",
              "      let percentDone = fileData.byteLength === 0 ?\n",
              "          100 :\n",
              "          Math.round((position / fileData.byteLength) * 100);\n",
              "      percent.textContent = `${percentDone}% done`;\n",
              "\n",
              "    } while (position < fileData.byteLength);\n",
              "  }\n",
              "\n",
              "  // All done.\n",
              "  yield {\n",
              "    response: {\n",
              "      action: 'complete',\n",
              "    }\n",
              "  };\n",
              "}\n",
              "\n",
              "scope.google = scope.google || {};\n",
              "scope.google.colab = scope.google.colab || {};\n",
              "scope.google.colab._files = {\n",
              "  _uploadFiles,\n",
              "  _uploadFilesContinue,\n",
              "};\n",
              "})(self);\n",
              "</script> "
            ]
          },
          "metadata": {}
        },
        {
          "output_type": "stream",
          "name": "stdout",
          "text": [
            "Saving dnar.txt to dnar (1).txt\n",
            "GAGACCUCUACCUUCCAAGGUCCGAUGUGUUAAAAUACCUCCCAUGCUCAGCUCGGCUGGGGGGCCAAUCUAUUUGAGCGGUGCACUUGGACCGUACUACGUAUUGGAAGGAGUCACGAUGGCUUAGGGUACUCAGCACAUUCGAUUUUCUACUAUAUUCCACAUGUAACCGUGACGGGCAGACUAAGUAGCUACCUCGGACAGUUGGAGAAAUCCCAUACCGGACCUCGGCGUCUCCCGCCGUUCGACGAUAUCUGCGGAGGGUUCGCUAAAGAGGCGUAAACCGAGAUUUGCAAGCAGAGAACCAAGCGUUCCUACAGUGCGACCAUUAACUGUGUAUUUCACGCGGCGAGAUCGUGAUGUAGCUGUUGGAACGCCUCAAUGCUACCGGGUCUAUGUGCCAAAUCUUUCUCUUAAGCUUCGGGGCUUCUCACCGUAAGGUGGUGGGGAAUGGACACCUUCCUACUCGUAGCCGAUCGCCAUGCUUGUGCCCUCUACACCUUCAUCUCAGCUCAUCUACUGACUGCCAGAGAAUGACCAGUAGUGUACACUGCAAGACGAAAACUCGGUUGACCAAGCAUAAUAUUACUGAUUGCAACCGCUCGGGUUCUAAUACGCAGGGAUCCCCGAUGUGCAUACUUGACCAACACGUAUCAUCAGAAGAUUACACAUUAAGGGGAACAUCAUAUCAUCGGUGUUCGGCGGAAGGAUUACGACAACUAUCCCAGUUGGACUGUGCUCCGUGAGGUAUUCUGUUGGGGAAACACUUCGUAGCACAUCUUGGAUGAAUCUUGCUAACCAGUAAGGAGUGUGCACGAGAUACCGCUGCAGUUGUCUCGCCACACUUAAGCGCUGGAGUUCGUUGUUGCUCGUGAAGUUUGUCAUUGUUGCGAAGCGAAAGCCUGAACGGCCGUUCAGUUGACAGCUCGCCCGAAGUGGAUUGUCCUCGACCUCAGCUUCAUAA\n"
          ]
        }
      ]
    },
    {
      "cell_type": "markdown",
      "source": [
        "P21.2 – Rosalind #8 (Translating RNA into Protein)"
      ],
      "metadata": {
        "id": "SmDm0HXUt-bn"
      }
    },
    {
      "cell_type": "code",
      "source": [
        "from Bio.Seq import Seq\n",
        "from google.colab import files\n",
        "uploaded = files.upload()\n",
        "with open(\"rna.txt\", \"r\") as f:\n",
        "    rna = Seq(f.read().strip())\n",
        "\n",
        "protein = rna.translate(to_stop=True)  # stop at first stop codon\n",
        "print(protein)\n"
      ],
      "metadata": {
        "colab": {
          "base_uri": "https://localhost:8080/",
          "height": 111
        },
        "id": "gYWNrA1Vt-59",
        "outputId": "3b625f2c-0b4e-4167-859a-91316d329709"
      },
      "execution_count": 47,
      "outputs": [
        {
          "output_type": "display_data",
          "data": {
            "text/plain": [
              "<IPython.core.display.HTML object>"
            ],
            "text/html": [
              "\n",
              "     <input type=\"file\" id=\"files-d3fe2294-782b-47e8-b308-d48134ee9ad5\" name=\"files[]\" multiple disabled\n",
              "        style=\"border:none\" />\n",
              "     <output id=\"result-d3fe2294-782b-47e8-b308-d48134ee9ad5\">\n",
              "      Upload widget is only available when the cell has been executed in the\n",
              "      current browser session. Please rerun this cell to enable.\n",
              "      </output>\n",
              "      <script>// Copyright 2017 Google LLC\n",
              "//\n",
              "// Licensed under the Apache License, Version 2.0 (the \"License\");\n",
              "// you may not use this file except in compliance with the License.\n",
              "// You may obtain a copy of the License at\n",
              "//\n",
              "//      http://www.apache.org/licenses/LICENSE-2.0\n",
              "//\n",
              "// Unless required by applicable law or agreed to in writing, software\n",
              "// distributed under the License is distributed on an \"AS IS\" BASIS,\n",
              "// WITHOUT WARRANTIES OR CONDITIONS OF ANY KIND, either express or implied.\n",
              "// See the License for the specific language governing permissions and\n",
              "// limitations under the License.\n",
              "\n",
              "/**\n",
              " * @fileoverview Helpers for google.colab Python module.\n",
              " */\n",
              "(function(scope) {\n",
              "function span(text, styleAttributes = {}) {\n",
              "  const element = document.createElement('span');\n",
              "  element.textContent = text;\n",
              "  for (const key of Object.keys(styleAttributes)) {\n",
              "    element.style[key] = styleAttributes[key];\n",
              "  }\n",
              "  return element;\n",
              "}\n",
              "\n",
              "// Max number of bytes which will be uploaded at a time.\n",
              "const MAX_PAYLOAD_SIZE = 100 * 1024;\n",
              "\n",
              "function _uploadFiles(inputId, outputId) {\n",
              "  const steps = uploadFilesStep(inputId, outputId);\n",
              "  const outputElement = document.getElementById(outputId);\n",
              "  // Cache steps on the outputElement to make it available for the next call\n",
              "  // to uploadFilesContinue from Python.\n",
              "  outputElement.steps = steps;\n",
              "\n",
              "  return _uploadFilesContinue(outputId);\n",
              "}\n",
              "\n",
              "// This is roughly an async generator (not supported in the browser yet),\n",
              "// where there are multiple asynchronous steps and the Python side is going\n",
              "// to poll for completion of each step.\n",
              "// This uses a Promise to block the python side on completion of each step,\n",
              "// then passes the result of the previous step as the input to the next step.\n",
              "function _uploadFilesContinue(outputId) {\n",
              "  const outputElement = document.getElementById(outputId);\n",
              "  const steps = outputElement.steps;\n",
              "\n",
              "  const next = steps.next(outputElement.lastPromiseValue);\n",
              "  return Promise.resolve(next.value.promise).then((value) => {\n",
              "    // Cache the last promise value to make it available to the next\n",
              "    // step of the generator.\n",
              "    outputElement.lastPromiseValue = value;\n",
              "    return next.value.response;\n",
              "  });\n",
              "}\n",
              "\n",
              "/**\n",
              " * Generator function which is called between each async step of the upload\n",
              " * process.\n",
              " * @param {string} inputId Element ID of the input file picker element.\n",
              " * @param {string} outputId Element ID of the output display.\n",
              " * @return {!Iterable<!Object>} Iterable of next steps.\n",
              " */\n",
              "function* uploadFilesStep(inputId, outputId) {\n",
              "  const inputElement = document.getElementById(inputId);\n",
              "  inputElement.disabled = false;\n",
              "\n",
              "  const outputElement = document.getElementById(outputId);\n",
              "  outputElement.innerHTML = '';\n",
              "\n",
              "  const pickedPromise = new Promise((resolve) => {\n",
              "    inputElement.addEventListener('change', (e) => {\n",
              "      resolve(e.target.files);\n",
              "    });\n",
              "  });\n",
              "\n",
              "  const cancel = document.createElement('button');\n",
              "  inputElement.parentElement.appendChild(cancel);\n",
              "  cancel.textContent = 'Cancel upload';\n",
              "  const cancelPromise = new Promise((resolve) => {\n",
              "    cancel.onclick = () => {\n",
              "      resolve(null);\n",
              "    };\n",
              "  });\n",
              "\n",
              "  // Wait for the user to pick the files.\n",
              "  const files = yield {\n",
              "    promise: Promise.race([pickedPromise, cancelPromise]),\n",
              "    response: {\n",
              "      action: 'starting',\n",
              "    }\n",
              "  };\n",
              "\n",
              "  cancel.remove();\n",
              "\n",
              "  // Disable the input element since further picks are not allowed.\n",
              "  inputElement.disabled = true;\n",
              "\n",
              "  if (!files) {\n",
              "    return {\n",
              "      response: {\n",
              "        action: 'complete',\n",
              "      }\n",
              "    };\n",
              "  }\n",
              "\n",
              "  for (const file of files) {\n",
              "    const li = document.createElement('li');\n",
              "    li.append(span(file.name, {fontWeight: 'bold'}));\n",
              "    li.append(span(\n",
              "        `(${file.type || 'n/a'}) - ${file.size} bytes, ` +\n",
              "        `last modified: ${\n",
              "            file.lastModifiedDate ? file.lastModifiedDate.toLocaleDateString() :\n",
              "                                    'n/a'} - `));\n",
              "    const percent = span('0% done');\n",
              "    li.appendChild(percent);\n",
              "\n",
              "    outputElement.appendChild(li);\n",
              "\n",
              "    const fileDataPromise = new Promise((resolve) => {\n",
              "      const reader = new FileReader();\n",
              "      reader.onload = (e) => {\n",
              "        resolve(e.target.result);\n",
              "      };\n",
              "      reader.readAsArrayBuffer(file);\n",
              "    });\n",
              "    // Wait for the data to be ready.\n",
              "    let fileData = yield {\n",
              "      promise: fileDataPromise,\n",
              "      response: {\n",
              "        action: 'continue',\n",
              "      }\n",
              "    };\n",
              "\n",
              "    // Use a chunked sending to avoid message size limits. See b/62115660.\n",
              "    let position = 0;\n",
              "    do {\n",
              "      const length = Math.min(fileData.byteLength - position, MAX_PAYLOAD_SIZE);\n",
              "      const chunk = new Uint8Array(fileData, position, length);\n",
              "      position += length;\n",
              "\n",
              "      const base64 = btoa(String.fromCharCode.apply(null, chunk));\n",
              "      yield {\n",
              "        response: {\n",
              "          action: 'append',\n",
              "          file: file.name,\n",
              "          data: base64,\n",
              "        },\n",
              "      };\n",
              "\n",
              "      let percentDone = fileData.byteLength === 0 ?\n",
              "          100 :\n",
              "          Math.round((position / fileData.byteLength) * 100);\n",
              "      percent.textContent = `${percentDone}% done`;\n",
              "\n",
              "    } while (position < fileData.byteLength);\n",
              "  }\n",
              "\n",
              "  // All done.\n",
              "  yield {\n",
              "    response: {\n",
              "      action: 'complete',\n",
              "    }\n",
              "  };\n",
              "}\n",
              "\n",
              "scope.google = scope.google || {};\n",
              "scope.google.colab = scope.google.colab || {};\n",
              "scope.google.colab._files = {\n",
              "  _uploadFiles,\n",
              "  _uploadFilesContinue,\n",
              "};\n",
              "})(self);\n",
              "</script> "
            ]
          },
          "metadata": {}
        },
        {
          "output_type": "stream",
          "name": "stdout",
          "text": [
            "Saving rna.txt to rna (1).txt\n",
            "MCIQNTGSNSFQAMDNIYDRILRARLLHDTLAIVLLGSIDTNVNCPTHQPFTSYRLTSSDCPNCLPRRRATHSRLTHTVRSRTGFFVTKTQTIRLQTPVQTRLRLTICVETIFICGGLTRAVRYISRSGIVVQVATSLYCNLKRLSIPKVLDAKYINRYISQRTVNCLTRNDLYPSLHTVLFARTRRRRESNFHARDSLRNEVKELGFLYLVRTMLCELAPHRPWEPFTGYSIVPRVLVGPTVTSHSLQKLYMRRSISEDRDEGFLLNWTGAPGTLGTRDKGSTLQMKRPQWFVSVGGTVTGHGCGVTITTRSSVFSKDPLRSYKPGLSSSIRGWMGRTLLDCVHGPFCQITTRHPQTFEGIFPVVISKDQKPRLHNRSFWTRSRVTISYPALGSSQVNSHRLINCTVCSTQKRGAASEVGSIQQVKDSIPTRAWRRGGKSVIMQDMGHLYDPSGNIVNYFRVRKFDTLVLSLRRLGWPVLFFRCSIHAKYRFYTIDPSDTGSIAYCIQLTLHALSNVWLSSMVRISSFSLLALILPEPLLAYGFCVSLLSRVPIITESTTSYCLSLKKISPLAQAIRNSARHVVGCNMFHLSFGLNLAEHFCSRYIPAGGFRPTPDMAPHPPRAEVLQLILPVVTLPPFRVTGRPDRSLKYIKVQHKCSIGPVEGEAGKRFGFVYGRVQFTTSLRYKFAGGRKLSISNIVMLKSSSSGAIIVSDKVLAILKFCERRIFSPVFCCAFGKFRLEGLIGLAVGDWDQQQAIWLVLFLAPVRIETRSPSMGNYESLIGIFFGEASLARTSPDSSETYWLTSVLFRCAEVNRVVNGHDFEVLMSPCATSFENHDRYVTFRLCPTTHLRHGKTTSPRPWVAGTYRDSPLGAEPSDAYELITPRLVGLSVFAIDRDSGPSFNRAKLLVMIYSVTRQRQSLGIDFVPQFWPSLAPTIADLWTMNNGSLPRKLPGTNVPVLTGSVQSSRTGRQALDVALTEISKFINITDFPGGHMPTQVRYSIAFDAKPALIFHHQMNHRQKGYIEELMLLTWLPPILPLVRNMITMLGNLRVMRILAGTSRFITLNTAPTGPELLSSSCYDTHLELRETILDPLLLWRCWYELLVLARGSLLLFLRIGHEYDAFMTLGSKWSYAASQCIYLLLRLRLLILREIAALTSFQPGYRARLQHKWWHHLRTLKVHAWQRFLSESAKGIADMVDCRYILLSHFALHRVALGWKAEDIPRPSRLRQRMNPPKFPTFDWWMSIRCPRQGRFKFGTNVPSSRLSDRKLRKNCWARFRSHRAKSLKWYWPRNAVCARLNRHKAEFARLTEVTSPLYRPRGIYEQISMINIAGRYKGTRVARIHTASCPLLSLKSTHRKSYPGKTASLSDPRVAYVPTPCAEYHIRYKRYDLPEYQVFYRSRGLCPLALRPDTPIHRNVHCVARRDRLRGRTTTDLCHQTRHSCSLAEHVRMSRGVSGVLAMLLKRVRPCYRNGPVVFSLSVLSSLARARAYTSGYRYLHRDSRSVPLLDAQCLSSYDSITTAYPLCTMQGSRTYIRSIMSGNPKEQIQERRRRSIAVIHKSISERFAHLTSSYDAPRWRTLKPNPSGAGSGLAWTRVTDSFIKDDLTRNLIPFGVRTWVSYENADNTFGFDAVIGIGRSKAGSGMYLSILRPNRFFTHHLAYHAYCARGRILQNTYCTCMINFFPVRHTLSIDAFRFVSRYGEDSIMPYRVGKLVPPPVGYIEVFRCPVSNLVRTPESVVFTPSIRQTLVGELRIMVYWRCYHLYRVRHSAPVYTSCHIYIGCFRYLVPLGVHVIGNPTCSLLIFSNTVVTGHRTALRINLISSQLLVTEVLTTEPIRLPPDLLQYFQGLWYHPYSTLGVTFSTFIMQRPAWVTTNEFHENGRGPPSDSLSEVVPGVPYKDATPLWTGPSSTMGNTLFLRKQRFRMAPAPVLSTYISLATPKNCNIRSKLRLTGGRSDTTEKAPAVTAHSHGILQFALTNIGWCPNRGAITKLKNRVSWPFSFEVCKGNYPKSRVCTNGLSTSNTQMRGLIISSITYGQLLITRANAEGKSAEVTTSVPTKGHPGPLTYTLPPREPSEPLSFHVAMNDLHLPTRHTRSPNHRMGLSMALVGLVHSFIVRSDCPRRQLPLRSVVIHDLQEREPRFQVLTRVDVGQAKHAREFPFASSTSNLASHKDVSPCCKQPLINCMYSHERTSPFRHAHTHPCTKIVNSFRMPVHVSSHHLTINRLFRNRCINRERAPPPIPVLPRFNGRADPPIRRQLLCGDFSISLVGGLYERHWDCTSSALGVSGQCQGRTWGVQIDMRSLYSGVIQNRCEFTLEAQHELLVLADIASSVAVINIRVSPVPPTCSRMAHQCGRPQEDQPTKDHAHSTLLLVNPDICLPLCPTRNKAFESRKRGAQGCPEICGVGVRHRIRCFFSGGPLQPIQASYYPFSDSVKTSIDSISPVDNAVRNSCSSTPSDDQETCIDTSRQCCPPKGWCLAPPRHMPFCLAYFPTRLSSRMCWVRAPRLGLLLLWIGPTVIIKSFGPRFQSNYTASKHGVRPLHCRRARQGDGPRRTERRDMLDSLEATHTYLNTQNGTGAHYGDVNARPRDTVMALISRYRSRLFPDPYVIRGGALAGRPVSPKGFPLKRQPYEMQGRRRPLEFSRSKCGPSILVPALHRGSIRDHLALAVLRWKMHTSMDVILKSRVGFPCTVTNCALRPLSFVACSGKLFGRKRYVDMRDRLILKRTTVDDIVAVEHSLDTDIKMPPLILPRDLPFPYTPRIGVVVGLVLRGAKPRRISKARPMKAVLPAAPFKSSCALAGLGIKVLHKNTPIHNKRPILCSARLAHPNGRIPLLRAWREHLHDPFYVALSVESFMLIGVVSTPLKLPALSDFLSPGTANRRYPYPRRASISPTFSAQNACNIEPGLPTTFGRTDPDYKTILKPRLPLGRRLPYEV\n"
          ]
        }
      ]
    },
    {
      "cell_type": "markdown",
      "source": [
        "P22. SeqIO.parse() – Reading FASTA"
      ],
      "metadata": {
        "id": "y4Hl3EdkuRDT"
      }
    },
    {
      "cell_type": "markdown",
      "source": [
        "P22.1 – Print IDs for each FASTA record"
      ],
      "metadata": {
        "id": "_yoSpQm8uRjY"
      }
    },
    {
      "cell_type": "code",
      "source": [
        "from Bio.SeqIO import parse\n",
        "from google.colab import files\n",
        "uploaded = files.upload()\n",
        "for rec in parse(\"practice_9.txt\", \"fasta\"):\n",
        "    print(rec.id)          # ID\n",
        "    # print(len(rec.seq))  # length if you want\n"
      ],
      "metadata": {
        "colab": {
          "base_uri": "https://localhost:8080/",
          "height": 165
        },
        "id": "SSCIz_Y6uSv9",
        "outputId": "4852beae-8967-4e2c-ec9b-84fd4d58b885"
      },
      "execution_count": 48,
      "outputs": [
        {
          "output_type": "display_data",
          "data": {
            "text/plain": [
              "<IPython.core.display.HTML object>"
            ],
            "text/html": [
              "\n",
              "     <input type=\"file\" id=\"files-9925e9fd-ace1-4048-a938-cf4bb3221b88\" name=\"files[]\" multiple disabled\n",
              "        style=\"border:none\" />\n",
              "     <output id=\"result-9925e9fd-ace1-4048-a938-cf4bb3221b88\">\n",
              "      Upload widget is only available when the cell has been executed in the\n",
              "      current browser session. Please rerun this cell to enable.\n",
              "      </output>\n",
              "      <script>// Copyright 2017 Google LLC\n",
              "//\n",
              "// Licensed under the Apache License, Version 2.0 (the \"License\");\n",
              "// you may not use this file except in compliance with the License.\n",
              "// You may obtain a copy of the License at\n",
              "//\n",
              "//      http://www.apache.org/licenses/LICENSE-2.0\n",
              "//\n",
              "// Unless required by applicable law or agreed to in writing, software\n",
              "// distributed under the License is distributed on an \"AS IS\" BASIS,\n",
              "// WITHOUT WARRANTIES OR CONDITIONS OF ANY KIND, either express or implied.\n",
              "// See the License for the specific language governing permissions and\n",
              "// limitations under the License.\n",
              "\n",
              "/**\n",
              " * @fileoverview Helpers for google.colab Python module.\n",
              " */\n",
              "(function(scope) {\n",
              "function span(text, styleAttributes = {}) {\n",
              "  const element = document.createElement('span');\n",
              "  element.textContent = text;\n",
              "  for (const key of Object.keys(styleAttributes)) {\n",
              "    element.style[key] = styleAttributes[key];\n",
              "  }\n",
              "  return element;\n",
              "}\n",
              "\n",
              "// Max number of bytes which will be uploaded at a time.\n",
              "const MAX_PAYLOAD_SIZE = 100 * 1024;\n",
              "\n",
              "function _uploadFiles(inputId, outputId) {\n",
              "  const steps = uploadFilesStep(inputId, outputId);\n",
              "  const outputElement = document.getElementById(outputId);\n",
              "  // Cache steps on the outputElement to make it available for the next call\n",
              "  // to uploadFilesContinue from Python.\n",
              "  outputElement.steps = steps;\n",
              "\n",
              "  return _uploadFilesContinue(outputId);\n",
              "}\n",
              "\n",
              "// This is roughly an async generator (not supported in the browser yet),\n",
              "// where there are multiple asynchronous steps and the Python side is going\n",
              "// to poll for completion of each step.\n",
              "// This uses a Promise to block the python side on completion of each step,\n",
              "// then passes the result of the previous step as the input to the next step.\n",
              "function _uploadFilesContinue(outputId) {\n",
              "  const outputElement = document.getElementById(outputId);\n",
              "  const steps = outputElement.steps;\n",
              "\n",
              "  const next = steps.next(outputElement.lastPromiseValue);\n",
              "  return Promise.resolve(next.value.promise).then((value) => {\n",
              "    // Cache the last promise value to make it available to the next\n",
              "    // step of the generator.\n",
              "    outputElement.lastPromiseValue = value;\n",
              "    return next.value.response;\n",
              "  });\n",
              "}\n",
              "\n",
              "/**\n",
              " * Generator function which is called between each async step of the upload\n",
              " * process.\n",
              " * @param {string} inputId Element ID of the input file picker element.\n",
              " * @param {string} outputId Element ID of the output display.\n",
              " * @return {!Iterable<!Object>} Iterable of next steps.\n",
              " */\n",
              "function* uploadFilesStep(inputId, outputId) {\n",
              "  const inputElement = document.getElementById(inputId);\n",
              "  inputElement.disabled = false;\n",
              "\n",
              "  const outputElement = document.getElementById(outputId);\n",
              "  outputElement.innerHTML = '';\n",
              "\n",
              "  const pickedPromise = new Promise((resolve) => {\n",
              "    inputElement.addEventListener('change', (e) => {\n",
              "      resolve(e.target.files);\n",
              "    });\n",
              "  });\n",
              "\n",
              "  const cancel = document.createElement('button');\n",
              "  inputElement.parentElement.appendChild(cancel);\n",
              "  cancel.textContent = 'Cancel upload';\n",
              "  const cancelPromise = new Promise((resolve) => {\n",
              "    cancel.onclick = () => {\n",
              "      resolve(null);\n",
              "    };\n",
              "  });\n",
              "\n",
              "  // Wait for the user to pick the files.\n",
              "  const files = yield {\n",
              "    promise: Promise.race([pickedPromise, cancelPromise]),\n",
              "    response: {\n",
              "      action: 'starting',\n",
              "    }\n",
              "  };\n",
              "\n",
              "  cancel.remove();\n",
              "\n",
              "  // Disable the input element since further picks are not allowed.\n",
              "  inputElement.disabled = true;\n",
              "\n",
              "  if (!files) {\n",
              "    return {\n",
              "      response: {\n",
              "        action: 'complete',\n",
              "      }\n",
              "    };\n",
              "  }\n",
              "\n",
              "  for (const file of files) {\n",
              "    const li = document.createElement('li');\n",
              "    li.append(span(file.name, {fontWeight: 'bold'}));\n",
              "    li.append(span(\n",
              "        `(${file.type || 'n/a'}) - ${file.size} bytes, ` +\n",
              "        `last modified: ${\n",
              "            file.lastModifiedDate ? file.lastModifiedDate.toLocaleDateString() :\n",
              "                                    'n/a'} - `));\n",
              "    const percent = span('0% done');\n",
              "    li.appendChild(percent);\n",
              "\n",
              "    outputElement.appendChild(li);\n",
              "\n",
              "    const fileDataPromise = new Promise((resolve) => {\n",
              "      const reader = new FileReader();\n",
              "      reader.onload = (e) => {\n",
              "        resolve(e.target.result);\n",
              "      };\n",
              "      reader.readAsArrayBuffer(file);\n",
              "    });\n",
              "    // Wait for the data to be ready.\n",
              "    let fileData = yield {\n",
              "      promise: fileDataPromise,\n",
              "      response: {\n",
              "        action: 'continue',\n",
              "      }\n",
              "    };\n",
              "\n",
              "    // Use a chunked sending to avoid message size limits. See b/62115660.\n",
              "    let position = 0;\n",
              "    do {\n",
              "      const length = Math.min(fileData.byteLength - position, MAX_PAYLOAD_SIZE);\n",
              "      const chunk = new Uint8Array(fileData, position, length);\n",
              "      position += length;\n",
              "\n",
              "      const base64 = btoa(String.fromCharCode.apply(null, chunk));\n",
              "      yield {\n",
              "        response: {\n",
              "          action: 'append',\n",
              "          file: file.name,\n",
              "          data: base64,\n",
              "        },\n",
              "      };\n",
              "\n",
              "      let percentDone = fileData.byteLength === 0 ?\n",
              "          100 :\n",
              "          Math.round((position / fileData.byteLength) * 100);\n",
              "      percent.textContent = `${percentDone}% done`;\n",
              "\n",
              "    } while (position < fileData.byteLength);\n",
              "  }\n",
              "\n",
              "  // All done.\n",
              "  yield {\n",
              "    response: {\n",
              "      action: 'complete',\n",
              "    }\n",
              "  };\n",
              "}\n",
              "\n",
              "scope.google = scope.google || {};\n",
              "scope.google.colab = scope.google.colab || {};\n",
              "scope.google.colab._files = {\n",
              "  _uploadFiles,\n",
              "  _uploadFilesContinue,\n",
              "};\n",
              "})(self);\n",
              "</script> "
            ]
          },
          "metadata": {}
        },
        {
          "output_type": "stream",
          "name": "stdout",
          "text": [
            "Saving practice_9.txt to practice_9 (1).txt\n",
            "Rosalind_4904\n",
            "Rosalind_3086\n",
            "Rosalind_2157\n",
            "Rosalind_7702\n",
            "Rosalind_1598\n"
          ]
        }
      ]
    },
    {
      "cell_type": "markdown",
      "source": [
        "P23. gc_fraction() – GC Content"
      ],
      "metadata": {
        "id": "Fuhk_1jtumS2"
      }
    },
    {
      "cell_type": "markdown",
      "source": [
        "P23.1 – Print GC% for each FASTA record"
      ],
      "metadata": {
        "id": "ncNYQ2bQumpz"
      }
    },
    {
      "cell_type": "code",
      "source": [
        "from Bio.SeqIO import parse\n",
        "from Bio.SeqUtils import gc_fraction\n",
        "\n",
        "for rec in parse(\"practice_9.txt\", \"fasta\"):\n",
        "    print(rec.id, round(gc_fraction(str(rec.seq)) * 100, 6))\n"
      ],
      "metadata": {
        "colab": {
          "base_uri": "https://localhost:8080/"
        },
        "id": "A-VZ0HMGunsY",
        "outputId": "d0207664-6647-4176-c77c-f94697b6f8ba"
      },
      "execution_count": 49,
      "outputs": [
        {
          "output_type": "stream",
          "name": "stdout",
          "text": [
            "Rosalind_4904 49.87715\n",
            "Rosalind_3086 50.658561\n",
            "Rosalind_2157 49.589683\n",
            "Rosalind_7702 48.927477\n",
            "Rosalind_1598 48.383501\n"
          ]
        }
      ]
    },
    {
      "cell_type": "markdown",
      "source": [
        "P23.2 – Rosalind #9 (Max GC Content)"
      ],
      "metadata": {
        "id": "Z3t8BY1Zu08I"
      }
    },
    {
      "cell_type": "code",
      "source": [
        "from Bio.SeqIO import parse\n",
        "from Bio.SeqUtils import gc_fraction\n",
        "\n",
        "best_id, best_gc = None, -1.0\n",
        "for rec in parse(\"practice_9.txt\", \"fasta\"):\n",
        "    gc = gc_fraction(str(rec.seq))\n",
        "    if gc > best_gc:\n",
        "        best_gc, best_id = gc, rec.id\n",
        "\n",
        "print(best_id)\n",
        "print(round(best_gc * 100, 6))\n"
      ],
      "metadata": {
        "colab": {
          "base_uri": "https://localhost:8080/"
        },
        "id": "05Yf6_6nu1cr",
        "outputId": "281cdd0d-02d3-4126-c2fa-f6e7c3737dff"
      },
      "execution_count": 50,
      "outputs": [
        {
          "output_type": "stream",
          "name": "stdout",
          "text": [
            "Rosalind_3086\n",
            "50.658561\n"
          ]
        }
      ]
    }
  ]
}